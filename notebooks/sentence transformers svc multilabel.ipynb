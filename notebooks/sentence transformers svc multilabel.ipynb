{
 "cells": [
  {
   "cell_type": "markdown",
   "id": "49f5cb11",
   "metadata": {},
   "source": [
    "### Sentence Transformers SVC Multilabel\n",
    "This notebook demonstrates the efficacy and simplicity of Sentence Transformers embeddings for multilabel text classification when paired with a One Vs Rest Linear Support Vector Classifier."
   ]
  },
  {
   "cell_type": "code",
   "execution_count": 1,
   "id": "b9cc1f24",
   "metadata": {},
   "outputs": [],
   "source": [
    "import pandas as pd\n",
    "import pickle\n",
    "import numpy as np\n",
    "from sentence_transformers import SentenceTransformer, util\n",
    "from tqdm.notebook import tqdm\n",
    "from sklearn.multiclass import OneVsRestClassifier\n",
    "from sklearn.svm import LinearSVC\n",
    "from sklearn.model_selection import train_test_split\n",
    "from sklearn.metrics import label_ranking_average_precision_score"
   ]
  },
  {
   "cell_type": "code",
   "execution_count": 2,
   "id": "3f23dc85",
   "metadata": {},
   "outputs": [],
   "source": [
    "df = pd.read_csv('res/toxic_comments.csv')"
   ]
  },
  {
   "cell_type": "code",
   "execution_count": 3,
   "id": "d53c8536",
   "metadata": {},
   "outputs": [],
   "source": [
    "sample = df.sample(6_000)\n",
    "texts = sample.comment_text.values"
   ]
  },
  {
   "cell_type": "code",
   "execution_count": 4,
   "id": "5b2fcfcd",
   "metadata": {},
   "outputs": [],
   "source": [
    "topics = df.columns[2:]"
   ]
  },
  {
   "cell_type": "code",
   "execution_count": 5,
   "id": "88de97cd",
   "metadata": {},
   "outputs": [],
   "source": [
    "text_embeddings = SentenceTransformer(\n",
    "    \"T-Systems-onsite/cross-en-de-roberta-sentence-transformer\"\n",
    ").encode(\n",
    "    texts.astype(str), \n",
    "    convert_to_tensor=True\n",
    ").cpu().detach().numpy()"
   ]
  },
  {
   "cell_type": "code",
   "execution_count": 6,
   "id": "466650a3",
   "metadata": {},
   "outputs": [],
   "source": [
    "class SVC:\n",
    "    def __init__(self, labels):\n",
    "        self.labels = labels\n",
    "        self.svc = OneVsRestClassifier(LinearSVC())\n",
    "        \n",
    "    def train(self, X, y):\n",
    "        self.svc.fit(X, y)\n",
    "    \n",
    "    def predict(self, X):\n",
    "        return self.svc.decision_function(X)\n",
    "    \n",
    "    def strings_to_multihot(self, strings):\n",
    "        encodings = [\n",
    "            np.array([1 if l in st else 0 for l in self.labels]) for st in strings\n",
    "        ]\n",
    "        return np.array(encodings)\n",
    "    \n",
    "    def multihot_to_string(self, multihots):\n",
    "        decodings = [\n",
    "            *filter(lambda x: x[0] == 1, zip(multihot, self.labels))[1]\n",
    "        ]\n",
    "        return decodings"
   ]
  },
  {
   "cell_type": "code",
   "execution_count": 7,
   "id": "a70263a2",
   "metadata": {},
   "outputs": [],
   "source": [
    "with open('res/embeddings.pkl', 'wb') as f:\n",
    "    pickle.dump(text_embeddings, f)"
   ]
  },
  {
   "cell_type": "code",
   "execution_count": 8,
   "id": "a5f445a9",
   "metadata": {},
   "outputs": [],
   "source": [
    "with open('res/embeddings.pkl', 'rb') as f:\n",
    "    text_embeddings = pickle.load(f)"
   ]
  },
  {
   "cell_type": "code",
   "execution_count": 9,
   "id": "32722e1f",
   "metadata": {},
   "outputs": [],
   "source": [
    "def get_labels(row):\n",
    "    labels = []\n",
    "    for t in topics:\n",
    "        if row[t] == 1:\n",
    "            labels.append(t)\n",
    "            \n",
    "    return labels"
   ]
  },
  {
   "cell_type": "code",
   "execution_count": 10,
   "id": "973097b3",
   "metadata": {},
   "outputs": [],
   "source": [
    "tqdm.pandas()"
   ]
  },
  {
   "cell_type": "code",
   "execution_count": 11,
   "id": "ff1dbea0",
   "metadata": {},
   "outputs": [
    {
     "data": {
      "application/vnd.jupyter.widget-view+json": {
       "model_id": "657dc035e5b244869081bf89e55ac39d",
       "version_major": 2,
       "version_minor": 0
      },
      "text/plain": [
       "  0%|          | 0/6000 [00:00<?, ?it/s]"
      ]
     },
     "metadata": {},
     "output_type": "display_data"
    }
   ],
   "source": [
    "labels = sample.progress_apply(get_labels, axis=1)"
   ]
  },
  {
   "cell_type": "code",
   "execution_count": 12,
   "id": "fbbf5a8d",
   "metadata": {},
   "outputs": [],
   "source": [
    "labels = labels.values"
   ]
  },
  {
   "cell_type": "code",
   "execution_count": 13,
   "id": "2a1c2023",
   "metadata": {},
   "outputs": [],
   "source": [
    "classifier = SVC(labels=topics)"
   ]
  },
  {
   "cell_type": "code",
   "execution_count": 14,
   "id": "567610cb",
   "metadata": {},
   "outputs": [],
   "source": [
    "labels_multihot = classifier.strings_to_multihot(labels.tolist())"
   ]
  },
  {
   "cell_type": "code",
   "execution_count": 15,
   "id": "e941dd19",
   "metadata": {},
   "outputs": [],
   "source": [
    "X_train, X_test, y_train, y_test = train_test_split(text_embeddings, labels_multihot, shuffle=True)"
   ]
  },
  {
   "cell_type": "code",
   "execution_count": 16,
   "id": "355b60a3",
   "metadata": {
    "scrolled": true
   },
   "outputs": [
    {
     "name": "stderr",
     "output_type": "stream",
     "text": [
      "c:\\users\\deepsight gmbh\\appdata\\local\\programs\\python\\python37\\lib\\site-packages\\sklearn\\svm\\_base.py:986: ConvergenceWarning: Liblinear failed to converge, increase the number of iterations.\n",
      "  \"the number of iterations.\", ConvergenceWarning)\n"
     ]
    }
   ],
   "source": [
    "classifier.train(\n",
    "    X=X_train,\n",
    "    y=y_train\n",
    ")"
   ]
  },
  {
   "cell_type": "code",
   "execution_count": 17,
   "id": "04d6008e",
   "metadata": {},
   "outputs": [],
   "source": [
    "pred = classifier.predict(\n",
    "    X=X_test,\n",
    ")"
   ]
  },
  {
   "cell_type": "code",
   "execution_count": 18,
   "id": "40b15674",
   "metadata": {},
   "outputs": [
    {
     "data": {
      "text/plain": [
       "0.9818694444444446"
      ]
     },
     "execution_count": 18,
     "metadata": {},
     "output_type": "execute_result"
    }
   ],
   "source": [
    "label_ranking_average_precision_score(y_test, pred)"
   ]
  },
  {
   "cell_type": "code",
   "execution_count": null,
   "id": "297336a5",
   "metadata": {},
   "outputs": [],
   "source": []
  }
 ],
 "metadata": {
  "kernelspec": {
   "display_name": "Python 3",
   "language": "python",
   "name": "python3"
  },
  "language_info": {
   "codemirror_mode": {
    "name": "ipython",
    "version": 3
   },
   "file_extension": ".py",
   "mimetype": "text/x-python",
   "name": "python",
   "nbconvert_exporter": "python",
   "pygments_lexer": "ipython3",
   "version": "3.7.9"
  }
 },
 "nbformat": 4,
 "nbformat_minor": 5
}
