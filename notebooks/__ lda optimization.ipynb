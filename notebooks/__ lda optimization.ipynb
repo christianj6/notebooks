{
 "cells": [
  {
   "cell_type": "markdown",
   "metadata": {},
   "source": [
    "### LDA Optimization\n",
    "This notebook explores some potential optimization metrics for Latent Dirichlet Allocation. This topic modelling technique is sophisticated but can be difficult to interpret and tune. As such, it is often necessary to optimize a model to several internal or imposed parameters. This notebook includes a more involved preprocessing stage than others because text normalization is very important for this topic model."
   ]
  },
  {
   "cell_type": "code",
   "execution_count": 191,
   "metadata": {},
   "outputs": [
    {
     "name": "stderr",
     "output_type": "stream",
     "text": [
      "[nltk_data] Downloading package averaged_perceptron_tagger to\n",
      "[nltk_data]     C:\\Users\\Christian\\AppData\\Roaming\\nltk_data...\n",
      "[nltk_data]   Package averaged_perceptron_tagger is already up-to-\n",
      "[nltk_data]       date!\n",
      "[nltk_data] Downloading package wordnet to\n",
      "[nltk_data]     C:\\Users\\Christian\\AppData\\Roaming\\nltk_data...\n",
      "[nltk_data]   Package wordnet is already up-to-date!\n"
     ]
    },
    {
     "data": {
      "text/plain": [
       "True"
      ]
     },
     "execution_count": 191,
     "metadata": {},
     "output_type": "execute_result"
    }
   ],
   "source": [
    "from gensim.corpora.dictionary import Dictionary\n",
    "from gensim.models import LdaModel\n",
    "from gensim.utils import simple_preprocess\n",
    "from gensim.models.coherencemodel import CoherenceModel\n",
    "from tqdm.notebook import tqdm\n",
    "import matplotlib.pyplot as plt\n",
    "import seaborn as sns\n",
    "import pandas as pd\n",
    "import fasttext as ft\n",
    "import numpy as np\n",
    "import scipy.spatial.distance as distance\n",
    "from sklearn.metrics import silhouette_score\n",
    "import re\n",
    "from sklearn.linear_model import LinearRegression\n",
    "import nltk\n",
    "from nltk.corpus import wordnet\n",
    "from nltk.stem import WordNetLemmatizer \n",
    "from bs4 import BeautifulSoup\n",
    "import string\n",
    "import plotly.graph_objects as go\n",
    "nltk.download('averaged_perceptron_tagger')\n",
    "nltk.download('wordnet')"
   ]
  },
  {
   "cell_type": "code",
   "execution_count": 192,
   "metadata": {},
   "outputs": [],
   "source": [
    "# Get stopwords list.\n",
    "from nltk.corpus import stopwords\n",
    "sw_en = stopwords.words('english')"
   ]
  },
  {
   "cell_type": "code",
   "execution_count": 193,
   "metadata": {},
   "outputs": [],
   "source": [
    "# Load both the datasets.\n",
    "df = pd.read_csv('res/bbc.csv')"
   ]
  },
  {
   "cell_type": "code",
   "execution_count": 194,
   "metadata": {},
   "outputs": [
    {
     "name": "stdout",
     "output_type": "stream",
     "text": [
      "2290.354\n"
     ]
    }
   ],
   "source": [
    "# Get average comment length.\n",
    "print(sum(map(lambda x: len(x), df['text'])) / len(df))"
   ]
  },
  {
   "cell_type": "code",
   "execution_count": 195,
   "metadata": {},
   "outputs": [
    {
     "data": {
      "text/html": [
       "<div>\n",
       "<style scoped>\n",
       "    .dataframe tbody tr th:only-of-type {\n",
       "        vertical-align: middle;\n",
       "    }\n",
       "\n",
       "    .dataframe tbody tr th {\n",
       "        vertical-align: top;\n",
       "    }\n",
       "\n",
       "    .dataframe thead th {\n",
       "        text-align: right;\n",
       "    }\n",
       "</style>\n",
       "<table border=\"1\" class=\"dataframe\">\n",
       "  <thead>\n",
       "    <tr style=\"text-align: right;\">\n",
       "      <th></th>\n",
       "      <th>text</th>\n",
       "      <th>label</th>\n",
       "    </tr>\n",
       "  </thead>\n",
       "  <tbody>\n",
       "    <tr>\n",
       "      <th>0</th>\n",
       "      <td>French wine gets 70m euro top-up  The French g...</td>\n",
       "      <td>business</td>\n",
       "    </tr>\n",
       "    <tr>\n",
       "      <th>1</th>\n",
       "      <td>Steady job growth continues in US  The US crea...</td>\n",
       "      <td>business</td>\n",
       "    </tr>\n",
       "    <tr>\n",
       "      <th>2</th>\n",
       "      <td>S&amp;N extends Indian beer venture  The UK's bigg...</td>\n",
       "      <td>business</td>\n",
       "    </tr>\n",
       "    <tr>\n",
       "      <th>3</th>\n",
       "      <td>Unilever shake up as profit slips  Anglo-Dutch...</td>\n",
       "      <td>business</td>\n",
       "    </tr>\n",
       "    <tr>\n",
       "      <th>4</th>\n",
       "      <td>Circuit City gets takeover offer  Circuit City...</td>\n",
       "      <td>business</td>\n",
       "    </tr>\n",
       "  </tbody>\n",
       "</table>\n",
       "</div>"
      ],
      "text/plain": [
       "                                                text     label\n",
       "0  French wine gets 70m euro top-up  The French g...  business\n",
       "1  Steady job growth continues in US  The US crea...  business\n",
       "2  S&N extends Indian beer venture  The UK's bigg...  business\n",
       "3  Unilever shake up as profit slips  Anglo-Dutch...  business\n",
       "4  Circuit City gets takeover offer  Circuit City...  business"
      ]
     },
     "execution_count": 195,
     "metadata": {},
     "output_type": "execute_result"
    }
   ],
   "source": [
    "# Apostrophe Dictionary and if you have more words in mind, please add it in the bottom\n",
    "apostrophe = {\n",
    "    \"aren't\" : \"are not\",\n",
    "    \"can't\" : \"cannot\",\n",
    "    \"couldn't\" : \"could not\",\n",
    "    \"didn't\" : \"did not\",\n",
    "    \"doesn't\" : \"does not\",\n",
    "    \"don't\" : \"do not\",\n",
    "    \"hadn't\" : \"had not\",\n",
    "    \"hasn't\" : \"has not\",\n",
    "    \"haven't\" : \"have not\",\n",
    "    \"he'd\" : \"he would\",\n",
    "    \"he'll\" : \"he will\",\n",
    "    \"he's\" : \"he is\",\n",
    "    \"i'd\" : \"I would\",\n",
    "    \"i'd\" : \"I had\",\n",
    "    \"i'll\" : \"I will\",\n",
    "    \"i'm\" : \"I am\",\n",
    "    \"isn't\" : \"is not\",\n",
    "    \"it's\" : \"it is\",\n",
    "    \"it'll\":\"it will\",\n",
    "    \"i've\" : \"I have\",\n",
    "    \"let's\" : \"let us\",\n",
    "    \"mightn't\" : \"might not\",\n",
    "    \"mustn't\" : \"must not\",\n",
    "    \"shan't\" : \"shall not\",\n",
    "    \"she'd\" : \"she would\",\n",
    "    \"she'll\" : \"she will\",\n",
    "    \"she's\" : \"she is\",\n",
    "    \"shouldn't\" : \"should not\",\n",
    "    \"that's\" : \"that is\",\n",
    "    \"there's\" : \"there is\",\n",
    "    \"they'd\" : \"they would\",\n",
    "    \"they'll\" : \"they will\",\n",
    "    \"they're\" : \"they are\",\n",
    "    \"they've\" : \"they have\",\n",
    "    \"we'd\" : \"we would\",\n",
    "    \"we're\" : \"we are\",\n",
    "    \"weren't\" : \"were not\",\n",
    "    \"we've\" : \"we have\",\n",
    "    \"what'll\" : \"what will\",\n",
    "    \"what're\" : \"what are\",\n",
    "    \"what's\" : \"what is\",\n",
    "    \"what've\" : \"what have\",\n",
    "    \"where's\" : \"where is\",\n",
    "    \"who'd\" : \"who would\",\n",
    "    \"who'll\" : \"who will\",\n",
    "    \"who're\" : \"who are\",\n",
    "    \"who's\" : \"who is\",\n",
    "    \"who've\" : \"who have\",\n",
    "    \"won't\" : \"will not\",\n",
    "    \"wouldn't\" : \"would not\",\n",
    "    \"you'd\" : \"you would\",\n",
    "    \"you'll\" : \"you will\",\n",
    "    \"you're\" : \"you are\",\n",
    "    \"you've\" : \"you have\",\n",
    "    \"'re\": \" are\",\n",
    "    \"wasn't\": \"was not\",\n",
    "    \"we'll\":\" will\",\n",
    "    \"didn't\": \"did not\",\n",
    "    \"'s\": \"is\",\n",
    "    \"'re\": \"are\"\n",
    "}\n",
    "\n",
    "#Short words dictionary and if have more words in mind, please add it in the bottom\n",
    "short_words = {\n",
    "\"121\": \"one to one\",\n",
    "\"a/s/l\": \"age, sex, location\",\n",
    "\"adn\": \"any day now\",\n",
    "\"afaik\": \"as far as I know\",\n",
    "\"afk\": \"away from keyboard\",\n",
    "\"aight\": \"alright\",\n",
    "\"alol\": \"actually laughing out loud\",\n",
    "\"b4\": \"before\",\n",
    "\"b4n\": \"bye for now\",\n",
    "\"bak\": \"back at the keyboard\",\n",
    "\"bf\": \"boyfriend\",\n",
    "\"bff\": \"best friends forever\",\n",
    "\"bfn\": \"bye for now\",\n",
    "\"bg\": \"big grin\",\n",
    "\"bta\": \"but then again\",\n",
    "\"btw\": \"by the way\",\n",
    "\"cid\": \"crying in disgrace\",\n",
    "\"cnp\": \"continued in my next post\",\n",
    "\"cp\": \"chat post\",\n",
    "\"cu\": \"see you\",\n",
    "\"cul\": \"see you later\",\n",
    "\"cul8r\": \"see you later\",\n",
    "\"cya\": \"bye\",\n",
    "\"cyo\": \"see you online\",\n",
    "\"dbau\": \"doing business as usual\",\n",
    "\"fud\": \"fear, uncertainty, and doubt\",\n",
    "\"fwiw\": \"for what it's worth\",\n",
    "\"fyi\": \"for your information\",\n",
    "\"g\": \"grin\",\n",
    "\"g2g\": \"got to go\",\n",
    "\"ga\": \"go ahead\",\n",
    "\"gal\": \"get a life\",\n",
    "\"gf\": \"girlfriend\",\n",
    "\"gfn\": \"gone for now\",\n",
    "\"gmbo\": \"giggling my butt off\",\n",
    "\"gmta\": \"great minds think alike\",\n",
    "\"h8\": \"hate\",\n",
    "\"hagn\": \"have a good night\",\n",
    "\"hdop\": \"help delete online predators\",\n",
    "\"hhis\": \"hanging head in shame\",\n",
    "\"iac\": \"in any case\",\n",
    "\"ianal\": \"I am not a lawyer\",\n",
    "\"ic\": \"I see\",\n",
    "\"idk\": \"I don't know\",\n",
    "\"imao\": \"in my arrogant opinion\",\n",
    "\"imnsho\": \"in my not so humble opinion\",\n",
    "\"imo\": \"in my opinion\",\n",
    "\"iow\": \"in other words\",\n",
    "\"ipn\": \"I’m posting naked\",\n",
    "\"irl\": \"in real life\",\n",
    "\"jk\": \"just kidding\",\n",
    "\"l8r\": \"later\",\n",
    "\"ld\": \"later, dude\",\n",
    "\"ldr\": \"long distance relationship\",\n",
    "\"llta\": \"lots and lots of thunderous applause\",\n",
    "\"lmao\": \"laugh my ass off\",\n",
    "\"lmirl\": \"let's meet in real life\",\n",
    "\"lol\": \"laugh out loud\",\n",
    "\"ltr\": \"longterm relationship\",\n",
    "\"lulab\": \"love you like a brother\",\n",
    "\"lulas\": \"love you like a sister\",\n",
    "\"luv\": \"love\",\n",
    "\"m/f\": \"male or female\",\n",
    "\"m8\": \"mate\",\n",
    "\"milf\": \"mother I would like to fuck\",\n",
    "\"oll\": \"online love\",\n",
    "\"omg\": \"oh my god\",\n",
    "\"otoh\": \"on the other hand\",\n",
    "\"pir\": \"parent in room\",\n",
    "\"ppl\": \"people\",\n",
    "\"r\": \"are\",\n",
    "\"rofl\": \"roll on the floor laughing\",\n",
    "\"rpg\": \"role playing games\",\n",
    "\"ru\": \"are you\",\n",
    "\"shid\": \"slaps head in disgust\",\n",
    "\"somy\": \"sick of me yet\",\n",
    "\"sot\": \"short of time\",\n",
    "\"thanx\": \"thanks\",\n",
    "\"thx\": \"thanks\",\n",
    "\"ttyl\": \"talk to you later\",\n",
    "\"u\": \"you\",\n",
    "\"ur\": \"you are\",\n",
    "\"uw\": \"you’re welcome\",\n",
    "\"wb\": \"welcome back\",\n",
    "\"wfm\": \"works for me\",\n",
    "\"wibni\": \"wouldn't it be nice if\",\n",
    "\"wtf\": \"what the fuck\",\n",
    "\"wtg\": \"way to go\",\n",
    "\"wtgp\": \"want to go private\",\n",
    "\"ym\": \"young man\",\n",
    "\"gr8\": \"great\"\n",
    "}\n",
    "\n",
    "def apos_short_dict(text, dictionary):\n",
    "    for word in text.split():\n",
    "        if word.lower() in dictionary:\n",
    "            if word.lower() in text.split():\n",
    "                text = text.replace(word, dictionary[word.lower()])\n",
    "    return text\n",
    "\n",
    "df.head(5)"
   ]
  },
  {
   "cell_type": "code",
   "execution_count": 196,
   "metadata": {},
   "outputs": [
    {
     "data": {
      "text/html": [
       "<div>\n",
       "<style scoped>\n",
       "    .dataframe tbody tr th:only-of-type {\n",
       "        vertical-align: middle;\n",
       "    }\n",
       "\n",
       "    .dataframe tbody tr th {\n",
       "        vertical-align: top;\n",
       "    }\n",
       "\n",
       "    .dataframe thead th {\n",
       "        text-align: right;\n",
       "    }\n",
       "</style>\n",
       "<table border=\"1\" class=\"dataframe\">\n",
       "  <thead>\n",
       "    <tr style=\"text-align: right;\">\n",
       "      <th></th>\n",
       "      <th>text</th>\n",
       "      <th>label</th>\n",
       "      <th>comments</th>\n",
       "    </tr>\n",
       "  </thead>\n",
       "  <tbody>\n",
       "    <tr>\n",
       "      <th>0</th>\n",
       "      <td>French wine gets 70m euro top-up  The French g...</td>\n",
       "      <td>business</td>\n",
       "      <td>French wine gets euro topup The French governm...</td>\n",
       "    </tr>\n",
       "    <tr>\n",
       "      <th>1</th>\n",
       "      <td>Steady job growth continues in US  The US crea...</td>\n",
       "      <td>business</td>\n",
       "      <td>Steady job growth continues US The US created ...</td>\n",
       "    </tr>\n",
       "    <tr>\n",
       "      <th>2</th>\n",
       "      <td>S&amp;N extends Indian beer venture  The UK's bigg...</td>\n",
       "      <td>business</td>\n",
       "      <td>SN extends Indian beer venture The UKs biggest...</td>\n",
       "    </tr>\n",
       "    <tr>\n",
       "      <th>3</th>\n",
       "      <td>Unilever shake up as profit slips  Anglo-Dutch...</td>\n",
       "      <td>business</td>\n",
       "      <td>Unilever shake profit slips AngloDutch consume...</td>\n",
       "    </tr>\n",
       "    <tr>\n",
       "      <th>4</th>\n",
       "      <td>Circuit City gets takeover offer  Circuit City...</td>\n",
       "      <td>business</td>\n",
       "      <td>Circuit City gets takeover offer Circuit City ...</td>\n",
       "    </tr>\n",
       "  </tbody>\n",
       "</table>\n",
       "</div>"
      ],
      "text/plain": [
       "                                                text     label  \\\n",
       "0  French wine gets 70m euro top-up  The French g...  business   \n",
       "1  Steady job growth continues in US  The US crea...  business   \n",
       "2  S&N extends Indian beer venture  The UK's bigg...  business   \n",
       "3  Unilever shake up as profit slips  Anglo-Dutch...  business   \n",
       "4  Circuit City gets takeover offer  Circuit City...  business   \n",
       "\n",
       "                                            comments  \n",
       "0  French wine gets euro topup The French governm...  \n",
       "1  Steady job growth continues US The US created ...  \n",
       "2  SN extends Indian beer venture The UKs biggest...  \n",
       "3  Unilever shake profit slips AngloDutch consume...  \n",
       "4  Circuit City gets takeover offer Circuit City ...  "
      ]
     },
     "execution_count": 196,
     "metadata": {},
     "output_type": "execute_result"
    }
   ],
   "source": [
    "def remove_html(txt):\n",
    "    '''Remove HTML'''\n",
    "    txt = BeautifulSoup(txt, 'lxml')\n",
    "    return txt.get_text()\n",
    "\n",
    "def remove_punctuation(text):\n",
    "    '''Remove any punctuation'''\n",
    "    return \"\".join([i for i in text if i not in string.punctuation])\n",
    "\n",
    "def remove_stopwords(text):\n",
    "    '''Remove stop words'''\n",
    "    return \" \".join([w for w in text.split() if w not in stopwords.words('english')])   \n",
    "\n",
    "def preprocessing(txt, punctuation= False, stopwords= False, correct_apos= False, \n",
    "                  shortWords= False, specialCharacter= False, numbers= False, singleChar= False):\n",
    "    \n",
    "    cleanedTxt = txt.apply(lambda x: remove_html(x))\n",
    "    \n",
    "    if punctuation:\n",
    "        cleanedTxt = cleanedTxt.apply(lambda x:remove_punctuation(x))\n",
    "        \n",
    "    if stopwords:\n",
    "        cleanedTxt = cleanedTxt.apply(lambda x: remove_stopwords(x))\n",
    "        \n",
    "    if correct_apos:\n",
    "        cleanedTxt = cleanedTxt.apply(lambda x: apos_short_dict(str(x),apostrophe))\n",
    "        \n",
    "    if shortWords:\n",
    "        cleanedTxt = cleanedTxt.apply(lambda x: apos_short_dict(str(x),short_words))\n",
    "    \n",
    "    if specialCharacter:\n",
    "        '''Replacing Special Characters with space'''\n",
    "        cleanedTxt = cleanedTxt.apply(lambda x: re.sub(r'[^a-zA-Z0-9]',' ',str(x)))\n",
    "    \n",
    "    if numbers:\n",
    "        '''Replacing Numbers with space'''\n",
    "        cleanedTxt = cleanedTxt.apply(lambda x: re.sub(r'[^a-zA-Z]',' ',x))\n",
    "        \n",
    "    if singleChar:\n",
    "        '''Removing words whom length is one'''\n",
    "        cleanedTxt = cleanedTxt.apply(lambda x: ' '.join([w for w in x.split() if len(w)>1]))\n",
    "    \n",
    "    return cleanedTxt\n",
    "      \n",
    "df['comments'] = preprocessing(df['text'], punctuation= True, stopwords= True, \n",
    "                                correct_apos= True, shortWords= True, specialCharacter= True, \n",
    "                               numbers= True, singleChar= True)\n",
    "df.head()"
   ]
  },
  {
   "cell_type": "code",
   "execution_count": 197,
   "metadata": {},
   "outputs": [],
   "source": [
    "data_words = df['comments'].apply(lambda x: x.lower().split()).tolist()"
   ]
  },
  {
   "cell_type": "code",
   "execution_count": 198,
   "metadata": {},
   "outputs": [],
   "source": [
    "tqdm.pandas()"
   ]
  },
  {
   "cell_type": "code",
   "execution_count": 199,
   "metadata": {},
   "outputs": [
    {
     "name": "stderr",
     "output_type": "stream",
     "text": [
      "[nltk_data] Downloading package punkt to\n",
      "[nltk_data]     C:\\Users\\Christian\\AppData\\Roaming\\nltk_data...\n",
      "[nltk_data]   Package punkt is already up-to-date!\n"
     ]
    },
    {
     "data": {
      "application/vnd.jupyter.widget-view+json": {
       "model_id": "789ad392a8f4451a8ed0a28401e244d1",
       "version_major": 2,
       "version_minor": 0
      },
      "text/plain": [
       "HBox(children=(FloatProgress(value=0.0, max=2000.0), HTML(value='')))"
      ]
     },
     "metadata": {},
     "output_type": "display_data"
    },
    {
     "name": "stdout",
     "output_type": "stream",
     "text": [
      "\n"
     ]
    },
    {
     "data": {
      "text/html": [
       "<div>\n",
       "<style scoped>\n",
       "    .dataframe tbody tr th:only-of-type {\n",
       "        vertical-align: middle;\n",
       "    }\n",
       "\n",
       "    .dataframe tbody tr th {\n",
       "        vertical-align: top;\n",
       "    }\n",
       "\n",
       "    .dataframe thead th {\n",
       "        text-align: right;\n",
       "    }\n",
       "</style>\n",
       "<table border=\"1\" class=\"dataframe\">\n",
       "  <thead>\n",
       "    <tr style=\"text-align: right;\">\n",
       "      <th></th>\n",
       "      <th>text</th>\n",
       "      <th>label</th>\n",
       "      <th>comments</th>\n",
       "      <th>trigram_words</th>\n",
       "    </tr>\n",
       "  </thead>\n",
       "  <tbody>\n",
       "    <tr>\n",
       "      <th>0</th>\n",
       "      <td>[french, wine, get, euro, topup, the, french, ...</td>\n",
       "      <td>business</td>\n",
       "      <td>French wine gets euro topup The French governm...</td>\n",
       "      <td>french wine gets euro topup the french governm...</td>\n",
       "    </tr>\n",
       "    <tr>\n",
       "      <th>1</th>\n",
       "      <td>[steady, job, growth, continue, u, the, u, cre...</td>\n",
       "      <td>business</td>\n",
       "      <td>Steady job growth continues US The US created ...</td>\n",
       "      <td>steady job growth continues us the us created ...</td>\n",
       "    </tr>\n",
       "    <tr>\n",
       "      <th>2</th>\n",
       "      <td>[sn, extends, indian, beer, venture, the, uk, ...</td>\n",
       "      <td>business</td>\n",
       "      <td>SN extends Indian beer venture The UKs biggest...</td>\n",
       "      <td>sn extends indian beer venture the uks biggest...</td>\n",
       "    </tr>\n",
       "    <tr>\n",
       "      <th>3</th>\n",
       "      <td>[unilever, shake, profit, slip, anglodutch, co...</td>\n",
       "      <td>business</td>\n",
       "      <td>Unilever shake profit slips AngloDutch consume...</td>\n",
       "      <td>unilever shake profit slips anglodutch consume...</td>\n",
       "    </tr>\n",
       "    <tr>\n",
       "      <th>4</th>\n",
       "      <td>[circuit, city, get, takeover, offer, circuit,...</td>\n",
       "      <td>business</td>\n",
       "      <td>Circuit City gets takeover offer Circuit City ...</td>\n",
       "      <td>circuit city gets takeover offer circuit city ...</td>\n",
       "    </tr>\n",
       "  </tbody>\n",
       "</table>\n",
       "</div>"
      ],
      "text/plain": [
       "                                                text     label  \\\n",
       "0  [french, wine, get, euro, topup, the, french, ...  business   \n",
       "1  [steady, job, growth, continue, u, the, u, cre...  business   \n",
       "2  [sn, extends, indian, beer, venture, the, uk, ...  business   \n",
       "3  [unilever, shake, profit, slip, anglodutch, co...  business   \n",
       "4  [circuit, city, get, takeover, offer, circuit,...  business   \n",
       "\n",
       "                                            comments  \\\n",
       "0  French wine gets euro topup The French governm...   \n",
       "1  Steady job growth continues US The US created ...   \n",
       "2  SN extends Indian beer venture The UKs biggest...   \n",
       "3  Unilever shake profit slips AngloDutch consume...   \n",
       "4  Circuit City gets takeover offer Circuit City ...   \n",
       "\n",
       "                                       trigram_words  \n",
       "0  french wine gets euro topup the french governm...  \n",
       "1  steady job growth continues us the us created ...  \n",
       "2  sn extends indian beer venture the uks biggest...  \n",
       "3  unilever shake profit slips anglodutch consume...  \n",
       "4  circuit city gets takeover offer circuit city ...  "
      ]
     },
     "execution_count": 199,
     "metadata": {},
     "output_type": "execute_result"
    }
   ],
   "source": [
    "def get_wordnet_pos(word):\n",
    "    \"\"\"Map POS tag to first character lemmatize() accepts\"\"\"\n",
    "    tag = nltk.pos_tag([word])[0][1][0].upper()\n",
    "    tag_dict = {\"J\": wordnet.ADJ,\n",
    "                \"N\": wordnet.NOUN,\n",
    "                \"V\": wordnet.VERB,\n",
    "                \"R\": wordnet.ADV}\n",
    "\n",
    "    return tag_dict.get(tag, wordnet.NOUN)\n",
    "\n",
    "# 1. Init Lemmatizer\n",
    "lemmatizer = WordNetLemmatizer()\n",
    "df['trigram_words'] = [' '.join(words) for words in data_words]\n",
    "nltk.download('punkt')\n",
    "\n",
    "def Lemmatize (text):\n",
    "      return [lemmatizer.lemmatize(w, get_wordnet_pos(w)) for w in nltk.word_tokenize(text)]\n",
    "    \n",
    "df['text'] = df['trigram_words'].progress_apply(lambda x: Lemmatize(x))\n",
    "df.head(5)"
   ]
  },
  {
   "cell_type": "code",
   "execution_count": 200,
   "metadata": {},
   "outputs": [
    {
     "data": {
      "text/plain": [
       "0    [french, wine, get, euro, topup, the, french, ...\n",
       "1    [steady, job, growth, continue, u, the, u, cre...\n",
       "2    [sn, extends, indian, beer, venture, the, uk, ...\n",
       "3    [unilever, shake, profit, slip, anglodutch, co...\n",
       "4    [circuit, city, get, takeover, offer, circuit,...\n",
       "Name: text, dtype: object"
      ]
     },
     "execution_count": 200,
     "metadata": {},
     "output_type": "execute_result"
    }
   ],
   "source": [
    "df['text'].head()"
   ]
  },
  {
   "cell_type": "code",
   "execution_count": 201,
   "metadata": {},
   "outputs": [],
   "source": [
    "# Create dictionary and corpus for each dataset.\n",
    "dictionary = Dictionary(df['text'])\n",
    "dictionary.filter_extremes(no_below=1, no_above=0.5)\n",
    "corpus = [dictionary.doc2bow(text) for text in df['text']]"
   ]
  },
  {
   "cell_type": "code",
   "execution_count": 202,
   "metadata": {},
   "outputs": [],
   "source": [
    "# Instantiate range of topics to try.\n",
    "range_n_topics = list(range(2, 21))"
   ]
  },
  {
   "cell_type": "code",
   "execution_count": 17,
   "metadata": {},
   "outputs": [
    {
     "name": "stderr",
     "output_type": "stream",
     "text": [
      "Warning : `load_model` does not return WordVectorModel or SupervisedModel any more, but a `FastText` object which is very similar.\n"
     ]
    }
   ],
   "source": [
    "# Load fasttext model\n",
    "ft_model = ft.load_model('C:/Users/Christian/Desktop/crawl-300d-2M-subword.bin')"
   ]
  },
  {
   "cell_type": "code",
   "execution_count": 203,
   "metadata": {},
   "outputs": [
    {
     "data": {
      "application/vnd.jupyter.widget-view+json": {
       "model_id": "7f62b885a7dd4bd1a0cc0151ffa47404",
       "version_major": 2,
       "version_minor": 0
      },
      "text/plain": [
       "HBox(children=(FloatProgress(value=0.0, max=21403.0), HTML(value='')))"
      ]
     },
     "metadata": {},
     "output_type": "display_data"
    },
    {
     "name": "stdout",
     "output_type": "stream",
     "text": [
      "\n"
     ]
    }
   ],
   "source": [
    "# Get word embedding for each word id in the dictionary of each corpus.\n",
    "id2emb1 = {}\n",
    "for i, token in tqdm(dictionary.items()):\n",
    "    id2emb1[i] = ft_model[token]"
   ]
  },
  {
   "cell_type": "code",
   "execution_count": 20,
   "metadata": {},
   "outputs": [],
   "source": [
    "def get_average_variance_score_for_lda_model_topics(model, lang):\n",
    "    '''\n",
    "    Compute an average variance score across LDA topics,\n",
    "    using topic word embeddings and SSE.\n",
    "    \n",
    "    Parameters\n",
    "    ---------\n",
    "        model : LdaModel\n",
    "            Trained model.\n",
    "        lang : str\n",
    "            Language model to use.\n",
    "            \n",
    "    Returns\n",
    "    ---------\n",
    "        variance_score : float\n",
    "            Average variance for topics.\n",
    "    '''\n",
    "    if lang == 'en':\n",
    "        id2emb = id2emb2\n",
    "    elif lang == 'de':\n",
    "        id2emb = id2emb1\n",
    "    \n",
    "    topics = model.print_topics(num_topics=-1, num_words=20)    \n",
    "    variance_scores = []\n",
    "    for topic_id, _ in topics:\n",
    "        words = model.get_topic_terms(topic_id)\n",
    "        word_embeddings = []\n",
    "        for word_id, _ in words:\n",
    "            word_embeddings.append(id2emb[word_id])\n",
    "            \n",
    "        centroid = np.mean(word_embeddings, axis=0)\n",
    "        distances = []\n",
    "        for embedding in word_embeddings:\n",
    "            distances.append(distance.cosine(embedding, centroid)**2)\n",
    "            \n",
    "        variance_scores.append(sum(distances))\n",
    "        \n",
    "    return sum(variance_scores) / len(variance_scores)      "
   ]
  },
  {
   "cell_type": "code",
   "execution_count": 21,
   "metadata": {},
   "outputs": [],
   "source": [
    "# Silhouette\n",
    "def get_average_silhouette_score_for_lda_model_topics(model, lang):\n",
    "    '''\n",
    "    Compute an average silhouette score by using a tokens'\n",
    "    maximum probability topic as a cluster label, then using\n",
    "    these assignments to compute a silhouette score across\n",
    "    the tokens for each topic.\n",
    "    \n",
    "    Parameters\n",
    "    ---------\n",
    "        model : LdaModel\n",
    "            Trained model.\n",
    "        land : str\n",
    "            Language model to use.\n",
    "            \n",
    "    Returns\n",
    "    ---------\n",
    "        silhouette_score : float\n",
    "            Average silhouette score for topics.\n",
    "    '''\n",
    "    if lang == 'en':\n",
    "        id2emb = id2emb2\n",
    "    elif lang == 'de':\n",
    "        id2emb = id2emb1\n",
    "        \n",
    "    labels = []\n",
    "    for array in np.transpose(model.get_topics()):\n",
    "        labels.append(np.argmax(array))\n",
    "      \n",
    "    X = np.array(list(id2emb.values()))\n",
    "        \n",
    "    return silhouette_score(X, labels, random_state=42, sample_size=1000)"
   ]
  },
  {
   "cell_type": "code",
   "execution_count": 22,
   "metadata": {},
   "outputs": [],
   "source": [
    "# Average of summed related token weights.\n",
    "def get_average_inter_topic_correlated_word_weights(model, lang, threshold=0.5):\n",
    "    '''\n",
    "    Compute an average sum of the inter-topic word\n",
    "    probabilities for only those words which exist in \n",
    "    a cosine distance below an arbitrary threshold \n",
    "    connoting similarity.\n",
    "    \n",
    "    Parameters\n",
    "    ---------\n",
    "        model : LdaModel\n",
    "            Trained model.\n",
    "        lang : str\n",
    "            Language model to use.\n",
    "        threshold : float\n",
    "            Distance threshold for considering\n",
    "            two tokens to be semantically-related.\n",
    "            \n",
    "    Returns\n",
    "    ---------\n",
    "        average_summed_weights : float\n",
    "            Average of summed weights.\n",
    "    '''\n",
    "    if lang == 'en':\n",
    "        id2emb = id2emb2\n",
    "    elif lang == 'de':\n",
    "        id2emb = id2emb1\n",
    "    \n",
    "    weights_all_topics = []\n",
    "    topics = model.print_topics(num_topics=-1, num_words=10)\n",
    "    for i, (topic_id1, _) in enumerate(topics):\n",
    "        weights = []\n",
    "        words_in_current_topic = model.get_topic_terms(topic_id1, topn=20)\n",
    "        for word_id1, probability1 in words_in_current_topic:\n",
    "            weights_in_other_topics = []\n",
    "            for j, (topic_id2, _) in enumerate(topics):\n",
    "                if i == j:\n",
    "                    continue\n",
    "                    \n",
    "                weights_of_other_words = 0\n",
    "                words_in_other_topic = model.get_topic_terms(topic_id2, topn=20)\n",
    "                for word_id2, probability2 in words_in_other_topic:\n",
    "                    d = distance.cosine(id2emb[word_id1], id2emb[word_id2])\n",
    "                    if d < threshold:\n",
    "                        weights_of_other_words += probability2\n",
    "                        \n",
    "                weights_in_other_topics.append(weights_of_other_words)\n",
    "    \n",
    "            weights.append(sum(weights_in_other_topics) / len(weights_in_other_topics))\n",
    "                        \n",
    "        weights = sum(weights) / len(weights)\n",
    "        weights_all_topics.append(weights)\n",
    "\n",
    "    return sum(weights_all_topics) / len(weights_all_topics)"
   ]
  },
  {
   "cell_type": "code",
   "execution_count": 204,
   "metadata": {
    "scrolled": true
   },
   "outputs": [
    {
     "data": {
      "application/vnd.jupyter.widget-view+json": {
       "model_id": "842f1512b2d3471ea4ad51cdb8b21d5d",
       "version_major": 2,
       "version_minor": 0
      },
      "text/plain": [
       "HBox(children=(FloatProgress(value=0.0, max=19.0), HTML(value='')))"
      ]
     },
     "metadata": {},
     "output_type": "display_data"
    },
    {
     "name": "stdout",
     "output_type": "stream",
     "text": [
      "\n"
     ]
    }
   ],
   "source": [
    "# Run lda for the first corpus, plotting coherence value.\n",
    "coherence_umass = []\n",
    "variance = []\n",
    "summed_weights = []\n",
    "silhouette = []\n",
    "for i in tqdm(range_n_topics):\n",
    "    lda = LdaModel(corpus, id2word=dictionary, num_topics=i, random_state=42,\n",
    "                   alpha='asymmetric', per_word_topics=True, minimum_phi_value=0.02)\n",
    "    cm_umass = CoherenceModel(model=lda, corpus=corpus, coherence='u_mass')\n",
    "    coherence_umass.append(cm_umass.get_coherence())\n",
    "    variance.append(get_average_variance_score_for_lda_model_topics(lda, lang='de'))\n",
    "    summed_weights.append(get_average_inter_topic_correlated_word_weights(lda, lang='de'))\n",
    "    silhouette.append(get_average_silhouette_score_for_lda_model_topics(lda, lang='de'))"
   ]
  },
  {
   "cell_type": "code",
   "execution_count": 205,
   "metadata": {},
   "outputs": [],
   "source": [
    "# Adjust seaborn styling.\n",
    "sns.set_style(\"whitegrid\")\n",
    "sns.set_palette('Set2')"
   ]
  },
  {
   "cell_type": "code",
   "execution_count": 206,
   "metadata": {
    "scrolled": true
   },
   "outputs": [
    {
     "data": {
      "image/png": "[encoded data removed]",
      "text/plain": [
       "<Figure size 720x360 with 1 Axes>"
      ]
     },
     "metadata": {},
     "output_type": "display_data"
    }
   ],
   "source": [
    "# Plot coherence for different n_topics.\n",
    "fig1 = plt.figure(figsize=(10,5))\n",
    "ax1 = fig1.add_subplot(111)\n",
    "ax1.set_title('Coherence - BBC')\n",
    "plt.plot(range_n_topics, coherence_umass)\n",
    "\n",
    "ax1.set_xlabel('Number of Topics')\n",
    "ax1.set_ylabel('Metric Score')\n",
    "plt.show()"
   ]
  },
  {
   "cell_type": "code",
   "execution_count": 207,
   "metadata": {},
   "outputs": [
    {
     "data": {
      "image/png": "[encoded data removed]",
      "text/plain": [
       "<Figure size 720x360 with 1 Axes>"
      ]
     },
     "metadata": {},
     "output_type": "display_data"
    }
   ],
   "source": [
    "# Plot average summed weights for different n_topics.\n",
    "fig1 = plt.figure(figsize=(10,5))\n",
    "ax1 = fig1.add_subplot(111)\n",
    "ax1.set_title('Summed Weights - BBC')\n",
    "plt.plot(range_n_topics, summed_weights)\n",
    "\n",
    "ax1.set_xlabel('Number of Topics')\n",
    "ax1.set_ylabel('Metric Score')\n",
    "plt.show()"
   ]
  },
  {
   "cell_type": "code",
   "execution_count": 208,
   "metadata": {},
   "outputs": [
    {
     "data": {
      "image/png": "[encoded data removed]",
      "text/plain": [
       "<Figure size 720x360 with 1 Axes>"
      ]
     },
     "metadata": {},
     "output_type": "display_data"
    }
   ],
   "source": [
    "# Plot average silhouette for different n_topics.\n",
    "fig1 = plt.figure(figsize=(10,5))\n",
    "ax1 = fig1.add_subplot(111)\n",
    "ax1.set_title('Silhouette - GermEval')\n",
    "plt.plot(range_n_topics, silhouette)\n",
    "\n",
    "ax1.set_xlabel('Number of Topics')\n",
    "ax1.set_ylabel('Metric Score')\n",
    "plt.legend(['umass', 'silhouette'])\n",
    "plt.show()"
   ]
  },
  {
   "cell_type": "code",
   "execution_count": 209,
   "metadata": {},
   "outputs": [
    {
     "data": {
      "image/png": "[encoded data removed]",
      "text/plain": [
       "<Figure size 720x360 with 1 Axes>"
      ]
     },
     "metadata": {},
     "output_type": "display_data"
    }
   ],
   "source": [
    "# Plot variance against n_topics.\n",
    "fig1 = plt.figure(figsize=(10,5))\n",
    "ax1 = fig1.add_subplot(111)\n",
    "ax1.set_title('Variance - BBC')\n",
    "plt.plot(range_n_topics, variance)\n",
    "\n",
    "ax1.set_xlabel('Number of Topics')\n",
    "ax1.set_ylabel('Metric Score')\n",
    "plt.show()"
   ]
  },
  {
   "cell_type": "code",
   "execution_count": 210,
   "metadata": {
    "scrolled": true
   },
   "outputs": [
    {
     "name": "stdout",
     "output_type": "stream",
     "text": [
      "(0, '0.005*\"mr\" + 0.004*\"u\" + 0.004*\"people\" + 0.004*\"new\" + 0.004*\"but\" + 0.004*\"get\" + 0.004*\"he\" + 0.003*\"one\" + 0.003*\"film\" + 0.003*\"could\"')\n",
      "(1, '0.008*\"mr\" + 0.005*\"best\" + 0.005*\"one\" + 0.004*\"people\" + 0.004*\"get\" + 0.004*\"go\" + 0.004*\"time\" + 0.003*\"government\" + 0.003*\"world\" + 0.003*\"take\"')\n",
      "(2, '0.005*\"take\" + 0.005*\"mr\" + 0.005*\"game\" + 0.004*\"he\" + 0.004*\"first\" + 0.004*\"but\" + 0.004*\"people\" + 0.003*\"last\" + 0.003*\"could\" + 0.003*\"new\"')\n",
      "(3, '0.009*\"mr\" + 0.005*\"people\" + 0.005*\"u\" + 0.004*\"new\" + 0.004*\"use\" + 0.004*\"game\" + 0.003*\"but\" + 0.003*\"one\" + 0.003*\"uk\" + 0.003*\"he\"')\n",
      "(4, '0.005*\"mr\" + 0.005*\"new\" + 0.004*\"go\" + 0.004*\"people\" + 0.004*\"take\" + 0.004*\"he\" + 0.004*\"one\" + 0.004*\"show\" + 0.004*\"but\" + 0.004*\"u\"')\n"
     ]
    }
   ],
   "source": [
    "# Exploring the topics at n=5.\n",
    "lda = LdaModel(corpus, id2word=dictionary, num_topics=5, random_state=42, alpha='asymmetric', per_word_topics=True, minimum_phi_value=0.02)\n",
    "for topic in lda.print_topics(num_topics=-1):\n",
    "    print(topic)"
   ]
  },
  {
   "cell_type": "markdown",
   "metadata": {},
   "source": [
    "### NOTE\n",
    "As demonstrated, it is difficult to infer an optimal n topics from these data (although some metrics suggest a value around 5 is the optimal n_topics, which does agree with the original number of classes in the dataset), given that many metrics have a strong correlation with the number of topics. The next avenue to explore is a combination of the metrics which may lead to more obvious minima/maxima. First we will examine correlations between the existing metrics."
   ]
  },
  {
   "cell_type": "code",
   "execution_count": 211,
   "metadata": {},
   "outputs": [],
   "source": [
    "reg = LinearRegression().fit(np.array(coherence_umass).reshape(-1, 1), np.array(summed_weights).reshape(-1, 1))\n",
    "line = reg.predict(np.array(coherence_umass).reshape(-1, 1))"
   ]
  },
  {
   "cell_type": "code",
   "execution_count": 212,
   "metadata": {},
   "outputs": [
    {
     "data": {
      "text/plain": [
       "0.7732053473510289"
      ]
     },
     "execution_count": 212,
     "metadata": {},
     "output_type": "execute_result"
    }
   ],
   "source": [
    "reg.score(np.array(coherence_umass).reshape(-1, 1), np.array(summed_weights).reshape(-1, 1))"
   ]
  },
  {
   "cell_type": "code",
   "execution_count": 213,
   "metadata": {},
   "outputs": [
    {
     "data": {
      "image/png": "[encoded data removed]",
      "text/plain": [
       "<Figure size 720x360 with 1 Axes>"
      ]
     },
     "metadata": {},
     "output_type": "display_data"
    }
   ],
   "source": [
    "# Plot variance against coherence to see if a correlation is suggested.\n",
    "fig3cv = plt.figure(figsize=(10, 5))\n",
    "ax3cv = fig3cv.add_subplot(111)\n",
    "ax3cv.set_title('Coherence v Summed Weights - BBC')\n",
    "plt.scatter(coherence_umass, summed_weights)\n",
    "plt.plot(coherence_umass, line)\n",
    "\n",
    "ax3cv.set_xlabel('Coherence')\n",
    "ax3cv.set_ylabel('Variance')\n",
    "plt.show()"
   ]
  },
  {
   "cell_type": "markdown",
   "metadata": {},
   "source": [
    "### NOTE\n",
    "The coherence and summed weights values have a mild correlation."
   ]
  },
  {
   "cell_type": "code",
   "execution_count": 214,
   "metadata": {},
   "outputs": [],
   "source": [
    "reg = LinearRegression().fit(np.array(variance).reshape(-1, 1), np.array(silhouette).reshape(-1, 1))\n",
    "line = reg.predict(np.array(variance).reshape(-1, 1))"
   ]
  },
  {
   "cell_type": "code",
   "execution_count": 215,
   "metadata": {},
   "outputs": [
    {
     "data": {
      "text/plain": [
       "0.08791733717568939"
      ]
     },
     "execution_count": 215,
     "metadata": {},
     "output_type": "execute_result"
    }
   ],
   "source": [
    "reg.score(np.array(variance).reshape(-1, 1), np.array(silhouette).reshape(-1, 1))"
   ]
  },
  {
   "cell_type": "code",
   "execution_count": 216,
   "metadata": {},
   "outputs": [
    {
     "data": {
      "image/png": "[encoded data removed]",
      "text/plain": [
       "<Figure size 720x360 with 1 Axes>"
      ]
     },
     "metadata": {},
     "output_type": "display_data"
    }
   ],
   "source": [
    "# Plot variance against coherence to see if a correlation is suggested.\n",
    "fig3cv = plt.figure(figsize=(10, 5))\n",
    "ax3cv = fig3cv.add_subplot(111)\n",
    "ax3cv.set_title('Variance v Silhouette - BBC')\n",
    "plt.scatter(variance, silhouette)\n",
    "plt.plot(variance, line)\n",
    "\n",
    "ax3cv.set_xlabel('Coherence')\n",
    "ax3cv.set_ylabel('Variance')\n",
    "plt.show()"
   ]
  },
  {
   "cell_type": "markdown",
   "metadata": {},
   "source": [
    "### NOTE\n",
    "Silhouette and variance show a weak correlation."
   ]
  },
  {
   "cell_type": "code",
   "execution_count": 146,
   "metadata": {},
   "outputs": [],
   "source": [
    "# Average of summed related token weights.\n",
    "def get_average_inter_topic_correlated_word_weights(model, lang, threshold=0.5):\n",
    "    '''\n",
    "    Compute an average sum of the inter-topic word\n",
    "    probabilities for only those words which exist in \n",
    "    a cosine distance below an arbitrary threshold \n",
    "    connoting similarity.\n",
    "    \n",
    "    Parameters\n",
    "    ---------\n",
    "        model : LdaModel\n",
    "            Trained model.\n",
    "        threshold : float\n",
    "            Distance threshold for considering\n",
    "            two tokens to be semantically-related.\n",
    "            \n",
    "    Returns\n",
    "    ---------\n",
    "        average_summed_weights : float\n",
    "            Average of summed weights.\n",
    "    '''\n",
    "    id2emb = id2emb1\n",
    "    \n",
    "    weights_all_topics = []\n",
    "    topics = model.print_topics(num_topics=-1, num_words=10)\n",
    "    for i, (topic_id1, _) in enumerate(topics):\n",
    "        weights = []\n",
    "        words_in_current_topic = model.get_topic_terms(topic_id1, topn=20)\n",
    "        for word_id1, probability1 in words_in_current_topic:\n",
    "            weights_in_other_topics = []\n",
    "            for j, (topic_id2, _) in enumerate(topics):\n",
    "                if i == j:\n",
    "                    continue\n",
    "                    \n",
    "                weights_of_other_words = 0\n",
    "                words_in_other_topic = model.get_topic_terms(topic_id2, topn=20)\n",
    "                for word_id2, probability2 in words_in_other_topic:\n",
    "                    d = distance.cosine(id2emb[word_id1], id2emb[word_id2])\n",
    "                    if d < threshold:\n",
    "                        weights_of_other_words += probability2\n",
    "                        \n",
    "                weights_in_other_topics.append(weights_of_other_words)\n",
    "    \n",
    "            weights.append(sum(weights_in_other_topics) / len(weights_in_other_topics))\n",
    "                        \n",
    "        weights = sum(weights) / len(weights)\n",
    "        weights_all_topics.append(weights)\n",
    "\n",
    "    return sum(weights_all_topics) / len(weights_all_topics)"
   ]
  },
  {
   "cell_type": "code",
   "execution_count": 147,
   "metadata": {},
   "outputs": [],
   "source": [
    "def rescale(point, l):\n",
    "    mx, mn = max(l), min(l)\n",
    "    \n",
    "    return ((point - mn) / (mx - mn)) * (1 - 0) + 0"
   ]
  },
  {
   "cell_type": "code",
   "execution_count": 217,
   "metadata": {
    "scrolled": true
   },
   "outputs": [
    {
     "data": {
      "application/vnd.jupyter.widget-view+json": {
       "model_id": "b0c9b0be35fa4162a608f9f411867235",
       "version_major": 2,
       "version_minor": 0
      },
      "text/plain": [
       "HBox(children=(FloatProgress(value=0.0, max=19.0), HTML(value='')))"
      ]
     },
     "metadata": {},
     "output_type": "display_data"
    },
    {
     "data": {
      "application/vnd.jupyter.widget-view+json": {
       "model_id": "1fedfd0a61ed471881a000513548200d",
       "version_major": 2,
       "version_minor": 0
      },
      "text/plain": [
       "HBox(children=(FloatProgress(value=0.0, max=12.0), HTML(value='')))"
      ]
     },
     "metadata": {},
     "output_type": "display_data"
    },
    {
     "name": "stdout",
     "output_type": "stream",
     "text": [
      "\n"
     ]
    },
    {
     "data": {
      "application/vnd.jupyter.widget-view+json": {
       "model_id": "9a40a6bd2e7e485baa8bcb92eaecc574",
       "version_major": 2,
       "version_minor": 0
      },
      "text/plain": [
       "HBox(children=(FloatProgress(value=0.0, max=12.0), HTML(value='')))"
      ]
     },
     "metadata": {},
     "output_type": "display_data"
    },
    {
     "name": "stdout",
     "output_type": "stream",
     "text": [
      "\n"
     ]
    },
    {
     "data": {
      "application/vnd.jupyter.widget-view+json": {
       "model_id": "f515e1607ae441419700ac5a8947ea3b",
       "version_major": 2,
       "version_minor": 0
      },
      "text/plain": [
       "HBox(children=(FloatProgress(value=0.0, max=12.0), HTML(value='')))"
      ]
     },
     "metadata": {},
     "output_type": "display_data"
    },
    {
     "name": "stdout",
     "output_type": "stream",
     "text": [
      "\n"
     ]
    },
    {
     "data": {
      "application/vnd.jupyter.widget-view+json": {
       "model_id": "62f41597e6e64baf86cfea37e0cfef28",
       "version_major": 2,
       "version_minor": 0
      },
      "text/plain": [
       "HBox(children=(FloatProgress(value=0.0, max=12.0), HTML(value='')))"
      ]
     },
     "metadata": {},
     "output_type": "display_data"
    },
    {
     "name": "stdout",
     "output_type": "stream",
     "text": [
      "\n"
     ]
    },
    {
     "data": {
      "application/vnd.jupyter.widget-view+json": {
       "model_id": "7779bbf070484648b49917a33896d09f",
       "version_major": 2,
       "version_minor": 0
      },
      "text/plain": [
       "HBox(children=(FloatProgress(value=0.0, max=12.0), HTML(value='')))"
      ]
     },
     "metadata": {},
     "output_type": "display_data"
    },
    {
     "name": "stdout",
     "output_type": "stream",
     "text": [
      "\n"
     ]
    },
    {
     "data": {
      "application/vnd.jupyter.widget-view+json": {
       "model_id": "f7ad85c028744228be423a9cce6236fe",
       "version_major": 2,
       "version_minor": 0
      },
      "text/plain": [
       "HBox(children=(FloatProgress(value=0.0, max=12.0), HTML(value='')))"
      ]
     },
     "metadata": {},
     "output_type": "display_data"
    },
    {
     "name": "stdout",
     "output_type": "stream",
     "text": [
      "\n"
     ]
    },
    {
     "data": {
      "application/vnd.jupyter.widget-view+json": {
       "model_id": "679f1534b6a24e4fbe0e2789a6d669f5",
       "version_major": 2,
       "version_minor": 0
      },
      "text/plain": [
       "HBox(children=(FloatProgress(value=0.0, max=12.0), HTML(value='')))"
      ]
     },
     "metadata": {},
     "output_type": "display_data"
    },
    {
     "name": "stdout",
     "output_type": "stream",
     "text": [
      "\n"
     ]
    },
    {
     "data": {
      "application/vnd.jupyter.widget-view+json": {
       "model_id": "4c7e086c06ea4dc3918e3177196af6c2",
       "version_major": 2,
       "version_minor": 0
      },
      "text/plain": [
       "HBox(children=(FloatProgress(value=0.0, max=12.0), HTML(value='')))"
      ]
     },
     "metadata": {},
     "output_type": "display_data"
    },
    {
     "name": "stdout",
     "output_type": "stream",
     "text": [
      "\n"
     ]
    },
    {
     "data": {
      "application/vnd.jupyter.widget-view+json": {
       "model_id": "30350a5a18844849847009f69c0146bf",
       "version_major": 2,
       "version_minor": 0
      },
      "text/plain": [
       "HBox(children=(FloatProgress(value=0.0, max=12.0), HTML(value='')))"
      ]
     },
     "metadata": {},
     "output_type": "display_data"
    },
    {
     "name": "stdout",
     "output_type": "stream",
     "text": [
      "\n"
     ]
    },
    {
     "data": {
      "application/vnd.jupyter.widget-view+json": {
       "model_id": "f52346b6d91546fa984520cdb77b68c8",
       "version_major": 2,
       "version_minor": 0
      },
      "text/plain": [
       "HBox(children=(FloatProgress(value=0.0, max=12.0), HTML(value='')))"
      ]
     },
     "metadata": {},
     "output_type": "display_data"
    },
    {
     "name": "stdout",
     "output_type": "stream",
     "text": [
      "\n"
     ]
    },
    {
     "data": {
      "application/vnd.jupyter.widget-view+json": {
       "model_id": "4ea3976e9adf4ddd81f6afc8cbf651b8",
       "version_major": 2,
       "version_minor": 0
      },
      "text/plain": [
       "HBox(children=(FloatProgress(value=0.0, max=12.0), HTML(value='')))"
      ]
     },
     "metadata": {},
     "output_type": "display_data"
    },
    {
     "name": "stdout",
     "output_type": "stream",
     "text": [
      "\n"
     ]
    },
    {
     "data": {
      "application/vnd.jupyter.widget-view+json": {
       "model_id": "99a41be73c8047d8ac216f5a4d5db937",
       "version_major": 2,
       "version_minor": 0
      },
      "text/plain": [
       "HBox(children=(FloatProgress(value=0.0, max=12.0), HTML(value='')))"
      ]
     },
     "metadata": {},
     "output_type": "display_data"
    },
    {
     "name": "stdout",
     "output_type": "stream",
     "text": [
      "\n"
     ]
    },
    {
     "data": {
      "application/vnd.jupyter.widget-view+json": {
       "model_id": "7323fc87a1ab4bec91b35e9e4d71d4e4",
       "version_major": 2,
       "version_minor": 0
      },
      "text/plain": [
       "HBox(children=(FloatProgress(value=0.0, max=12.0), HTML(value='')))"
      ]
     },
     "metadata": {},
     "output_type": "display_data"
    },
    {
     "name": "stdout",
     "output_type": "stream",
     "text": [
      "\n"
     ]
    },
    {
     "data": {
      "application/vnd.jupyter.widget-view+json": {
       "model_id": "98abdf317d8e41b7b4f5dfa78c9a9a07",
       "version_major": 2,
       "version_minor": 0
      },
      "text/plain": [
       "HBox(children=(FloatProgress(value=0.0, max=12.0), HTML(value='')))"
      ]
     },
     "metadata": {},
     "output_type": "display_data"
    },
    {
     "name": "stdout",
     "output_type": "stream",
     "text": [
      "\n"
     ]
    },
    {
     "data": {
      "application/vnd.jupyter.widget-view+json": {
       "model_id": "d1f24117ef5c431f8034661e54dcfdf0",
       "version_major": 2,
       "version_minor": 0
      },
      "text/plain": [
       "HBox(children=(FloatProgress(value=0.0, max=12.0), HTML(value='')))"
      ]
     },
     "metadata": {},
     "output_type": "display_data"
    },
    {
     "name": "stdout",
     "output_type": "stream",
     "text": [
      "\n"
     ]
    },
    {
     "data": {
      "application/vnd.jupyter.widget-view+json": {
       "model_id": "1b313b0c2a55483c9f209a22a560cf9b",
       "version_major": 2,
       "version_minor": 0
      },
      "text/plain": [
       "HBox(children=(FloatProgress(value=0.0, max=12.0), HTML(value='')))"
      ]
     },
     "metadata": {},
     "output_type": "display_data"
    },
    {
     "name": "stdout",
     "output_type": "stream",
     "text": [
      "\n"
     ]
    },
    {
     "data": {
      "application/vnd.jupyter.widget-view+json": {
       "model_id": "ddaa8cd52a444114b3620c587829f459",
       "version_major": 2,
       "version_minor": 0
      },
      "text/plain": [
       "HBox(children=(FloatProgress(value=0.0, max=12.0), HTML(value='')))"
      ]
     },
     "metadata": {},
     "output_type": "display_data"
    },
    {
     "name": "stdout",
     "output_type": "stream",
     "text": [
      "\n"
     ]
    },
    {
     "data": {
      "application/vnd.jupyter.widget-view+json": {
       "model_id": "df503a01392b49fa8373c2ca61c2259a",
       "version_major": 2,
       "version_minor": 0
      },
      "text/plain": [
       "HBox(children=(FloatProgress(value=0.0, max=12.0), HTML(value='')))"
      ]
     },
     "metadata": {},
     "output_type": "display_data"
    },
    {
     "name": "stdout",
     "output_type": "stream",
     "text": [
      "\n"
     ]
    },
    {
     "data": {
      "application/vnd.jupyter.widget-view+json": {
       "model_id": "590aff36ab494f1086306179315a5534",
       "version_major": 2,
       "version_minor": 0
      },
      "text/plain": [
       "HBox(children=(FloatProgress(value=0.0, max=12.0), HTML(value='')))"
      ]
     },
     "metadata": {},
     "output_type": "display_data"
    },
    {
     "name": "stdout",
     "output_type": "stream",
     "text": [
      "\n",
      "\n"
     ]
    }
   ],
   "source": [
    "# Run lda for the third corpus, plotting metrics with various random states.\n",
    "df_log = []\n",
    "for i in tqdm(range_n_topics):\n",
    "    for j in tqdm(range(8, 20)):\n",
    "        # LDA\n",
    "        lda = LdaModel(corpus, id2word=dictionary, num_topics=i, random_state=j)\n",
    "        # Coherence\n",
    "        cm_umass = CoherenceModel(model=lda, corpus=corpus, coherence='u_mass')\n",
    "        coherence = cm_umass.get_coherence()\n",
    "        # Penalty\n",
    "        penalty = get_average_inter_topic_correlated_word_weights(lda, lang='en')\n",
    "        # Log a row\n",
    "        log_row = {\n",
    "            'n_topics': i,\n",
    "            'random_state': j,\n",
    "            'coherence (umass)': coherence,\n",
    "            'penalty': penalty,\n",
    "        }\n",
    "        df_log.append(log_row)"
   ]
  },
  {
   "cell_type": "code",
   "execution_count": 218,
   "metadata": {},
   "outputs": [],
   "source": [
    "df_log = pd.DataFrame(df_log)"
   ]
  },
  {
   "cell_type": "code",
   "execution_count": 219,
   "metadata": {},
   "outputs": [
    {
     "data": {
      "application/vnd.plotly.v1+json": {
       "config": {
        "plotlyServerURL": "https://plot.ly"
       },
       "data": [
        {
         "color": "rgba(244,22,100,0.6)",
         "opacity": 0.5,
         "type": "mesh3d",
         "x": [
          2,
          2,
          2,
          2,
          2,
          2,
          2,
          2,
          2,
          2,
          2,
          2,
          3,
          3,
          3,
          3,
          3,
          3,
          3,
          3,
          3,
          3,
          3,
          3,
          4,
          4,
          4,
          4,
          4,
          4,
          4,
          4,
          4,
          4,
          4,
          4,
          5,
          5,
          5,
          5,
          5,
          5,
          5,
          5,
          5,
          5,
          5,
          5,
          6,
          6,
          6,
          6,
          6,
          6,
          6,
          6,
          6,
          6,
          6,
          6,
          7,
          7,
          7,
          7,
          7,
          7,
          7,
          7,
          7,
          7,
          7,
          7,
          8,
          8,
          8,
          8,
          8,
          8,
          8,
          8,
          8,
          8,
          8,
          8,
          9,
          9,
          9,
          9,
          9,
          9,
          9,
          9,
          9,
          9,
          9,
          9,
          10,
          10,
          10,
          10,
          10,
          10,
          10,
          10,
          10,
          10,
          10,
          10,
          11,
          11,
          11,
          11,
          11,
          11,
          11,
          11,
          11,
          11,
          11,
          11,
          12,
          12,
          12,
          12,
          12,
          12,
          12,
          12,
          12,
          12,
          12,
          12,
          13,
          13,
          13,
          13,
          13,
          13,
          13,
          13,
          13,
          13,
          13,
          13,
          14,
          14,
          14,
          14,
          14,
          14,
          14,
          14,
          14,
          14,
          14,
          14,
          15,
          15,
          15,
          15,
          15,
          15,
          15,
          15,
          15,
          15,
          15,
          15,
          16,
          16,
          16,
          16,
          16,
          16,
          16,
          16,
          16,
          16,
          16,
          16,
          17,
          17,
          17,
          17,
          17,
          17,
          17,
          17,
          17,
          17,
          17,
          17,
          18,
          18,
          18,
          18,
          18,
          18,
          18,
          18,
          18,
          18,
          18,
          18,
          19,
          19,
          19,
          19,
          19,
          19,
          19,
          19,
          19,
          19,
          19,
          19,
          20,
          20,
          20,
          20,
          20,
          20,
          20,
          20,
          20,
          20,
          20,
          20
         ],
         "y": [
          0.058945458700364495,
          0.3706511575410173,
          0.4025860475748937,
          0.515594628235241,
          0.22189059438575176,
          0.0963435209101896,
          0.26670740236153245,
          0.34072174301254576,
          0.0547968921207892,
          0.07682400399009226,
          0.29040400703185465,
          0.31030357852726975,
          0.18723367164347682,
          0.08201439870005234,
          0.3339240499685997,
          0.17732288240366034,
          0.26183686928790817,
          0.3409750982730124,
          0.16459251495277394,
          0.10187604743633161,
          0.21725076844284963,
          0,
          0.12020540775407196,
          0.38255179006204965,
          0.3989233529592294,
          0.4214200866637777,
          0.38175284139631216,
          0.06642475210835008,
          0.733331962265052,
          0.31472128766084295,
          0.2763601606803583,
          0.40675251921816147,
          0.14625750157770345,
          0.3132702500662372,
          0.11753000370187028,
          0.5654791886514092,
          0.2865223731708877,
          0.25893216840519895,
          0.4182414661791578,
          0.169794422718474,
          0.8168830646486535,
          0.44532225296161954,
          0.10377426863908001,
          0.18147834849369948,
          0.1720687798013808,
          0.39054681562374727,
          0.4777537077338322,
          0.36446847346391464,
          0.27204324511335387,
          0.30194396886003805,
          0.579079430599717,
          0.13487261966670594,
          0.8027402842224372,
          0.578389589080776,
          0.3929473998746077,
          0.16221143961874585,
          0.35920733539392247,
          0.5421961457750185,
          0.37952618009989925,
          0.5751129895444358,
          0.2914450242870785,
          0.41584487613978693,
          0.44711707384735544,
          0.6182078239573986,
          0.6883419141928853,
          0.39003404369214056,
          0.36253067148441476,
          0.2663440085248432,
          0.6177176649130449,
          0.3748857487168509,
          0.564049446313986,
          0.29838980671235116,
          0.23953330805966466,
          0.41232075280248215,
          0.5449250610816947,
          0.5227660291441476,
          0.6673442366964237,
          0.4057208852989693,
          0.5685380094840542,
          0.20578391037834187,
          0.45944157785671413,
          0.33587364155851585,
          0.6143552996217566,
          0.32812345843123647,
          0.3267441467931732,
          0.2726753760535443,
          0.5852173752772452,
          0.4794653003099649,
          0.5978076093246196,
          0.3378952034165644,
          0.4417764729268947,
          0.2013807444000444,
          0.5996694265439165,
          0.48503482638229967,
          0.7714743992447773,
          0.2915520612805955,
          0.31366779393884103,
          0.4393464162270687,
          0.577484314884837,
          0.5751102583299542,
          0.4996132391678616,
          0.4176616418687905,
          0.5565145112313032,
          0.23025337522307077,
          0.5978999686661882,
          0.5242924478813825,
          0.7185466649712999,
          0.39502540977120937,
          0.44937897101057367,
          0.4167001785041755,
          0.5423658626765089,
          0.6172597216503096,
          0.49132679098705057,
          0.28777939704520095,
          0.5784026785842198,
          0.3382196659747353,
          0.45202586868001304,
          0.5581787641080906,
          0.6600014339260372,
          0.60163407943463,
          0.5049516753428381,
          0.6182801724108773,
          0.5594998919852376,
          0.5714958064933136,
          0.4972524496456082,
          0.46465519254425713,
          0.5539093574888976,
          0.3523872626790566,
          0.5365015534142248,
          0.5181455753454709,
          0.6205465007438363,
          0.6319957383008201,
          0.576495908525126,
          0.5445379519750736,
          0.6522591611658668,
          0.5774055213178106,
          0.4393239262046895,
          0.41412478264727925,
          0.47350738096851364,
          0.3617685811422813,
          0.5390106202606356,
          0.46005122289392375,
          0.7448180561715037,
          0.7813506150616614,
          0.7313224309139676,
          0.596436486007955,
          0.5542275255608662,
          0.47236564780613877,
          0.4458661964072391,
          0.45827832339225305,
          0.6846134207142511,
          0.4498317175806966,
          0.5664767454493008,
          0.5251962158994175,
          0.7139804792365592,
          0.6543833311838414,
          0.6912926440979392,
          0.6574882678237481,
          0.6493424977469849,
          0.8027572143039889,
          0.5087905654247084,
          0.5012991686654205,
          0.7765963242312587,
          0.4647302944782583,
          0.4889328113251542,
          0.5700589003429415,
          0.8101969381402223,
          0.6305785265071832,
          0.6412561980385346,
          0.7654089923472711,
          0.7295611448479844,
          0.5918904324876892,
          0.5376357294883624,
          0.5699132229075463,
          0.707638451992445,
          0.5932221269982431,
          0.6496489911835904,
          0.6841205949900828,
          1,
          0.6514842042532832,
          0.8134442445193892,
          0.5571299235458241,
          0.6511113077503472,
          0.487909265045939,
          0.4496949643551763,
          0.5068885984814795,
          0.6273497884586894,
          0.7495407702777446,
          0.6817442261539595,
          0.5752410247812074,
          0.9497692040562496,
          0.7535900040223978,
          0.7586627068455972,
          0.6812780104610942,
          0.6953989183215554,
          0.578858810891679,
          0.6421494115867454,
          0.6394769300712828,
          0.621059512077595,
          0.7022818135969535,
          0.6851268765707699,
          0.7070262217243631,
          0.9740401605999788,
          0.8215929912426557,
          0.8466648969468831,
          0.7789450916740015,
          0.7115630081671962,
          0.5871086701397159,
          0.647603777910839,
          0.7079114746727756,
          0.7648244437776961,
          0.7360357030485405,
          0.7376214635253939,
          0.8095372781163599,
          0.9419152705468916,
          0.9322442307135346,
          0.8697995330185483,
          0.7737692353128067,
          0.672186959077846,
          0.787576445137697,
          0.7600663835127003,
          0.6383964855034099,
          0.6894792923044142,
          0.7167412392572645,
          0.7024205920208697,
          0.8252050681166923,
          0.8655825964625667,
          0.9739877319662452
         ],
         "z": [
          0.01124092093668878,
          0.010436157457297666,
          0.011386079539079219,
          0.011418200674233958,
          0.010394323489163072,
          0.012813808576902374,
          0.011250149412080645,
          0.010876213351730257,
          0.011894277977989986,
          0.011096175416605548,
          0.01059768283739686,
          0.01145462318090722,
          0.011957566657414037,
          0.011212013989764576,
          0.011427156856128324,
          0.011623616642706716,
          0.010991058884731805,
          0.01210117992401744,
          0.01173145596209603,
          0.011600742572530484,
          0.01144029872957617,
          0.011640392967577401,
          0.01130887561206085,
          0.011965276735524338,
          0.011004163668258116,
          0.010532399685083267,
          0.010815326049729871,
          0.011161564481638683,
          0.010831246048716518,
          0.011530963584664279,
          0.011226091318530963,
          0.0117976587935118,
          0.011731609972775914,
          0.011291465834559254,
          0.011298426243592985,
          0.011555325081765962,
          0.010809267241274938,
          0.01132813160715159,
          0.011126936974469573,
          0.010783060838002711,
          0.010771981762372889,
          0.011131109092384578,
          0.01147204256383702,
          0.012109877337934451,
          0.011507227053516544,
          0.010897046661702915,
          0.010685541345737874,
          0.011809807224199175,
          0.010824841537590451,
          0.011475072061875835,
          0.010663643380782255,
          0.011194472694381452,
          0.010940792203570407,
          0.01097367288505969,
          0.0108492650235227,
          0.012176587546709925,
          0.0108832593774423,
          0.01052518377546221,
          0.01089160145454419,
          0.011648582307777057,
          0.011183419261526847,
          0.010741800988658465,
          0.010738878391982455,
          0.010311085285086716,
          0.010769433612447409,
          0.011362820369790172,
          0.010597668731463184,
          0.011319124718873008,
          0.010535090970474162,
          0.011114886147801631,
          0.010599834832274132,
          0.011801372844326708,
          0.011070749411633838,
          0.010833416816811742,
          0.01050232612885468,
          0.010482604818701344,
          0.01058065158971918,
          0.011188337344460056,
          0.010732842268979376,
          0.011442243390566934,
          0.011061345921604826,
          0.010765503813828608,
          0.010523935312396914,
          0.011383438236953225,
          0.010676389550725515,
          0.01105997296237749,
          0.010317327585653404,
          0.010854688942587624,
          0.010584266810231687,
          0.011368053453689854,
          0.010835324326277866,
          0.011608040301426727,
          0.01057748664445373,
          0.010701061778268519,
          0.010275569142928966,
          0.011003435281034197,
          0.010709104809082218,
          0.010575277859655521,
          0.01045089337741956,
          0.010384437491755103,
          0.010856376937331838,
          0.011142751499493089,
          0.010941109266520168,
          0.011250881157918937,
          0.010616569274958843,
          0.01042839084764839,
          0.010104049031053566,
          0.011302994103170932,
          0.010399683298839424,
          0.010413658116012813,
          0.010619492571250621,
          0.01050595781755295,
          0.010717063049616463,
          0.011371923910707911,
          0.010787812928796157,
          0.010937748860398479,
          0.010862740328302607,
          0.010375550855586137,
          0.010296116644008594,
          0.010767502989408307,
          0.01032191441309723,
          0.01017357088143895,
          0.01029110800115053,
          0.010773155916302292,
          0.010677083077836977,
          0.010815759383452436,
          0.010716016929081612,
          0.010651803721857226,
          0.010713407934544552,
          0.010715287763389024,
          0.010554841793738445,
          0.010632971419148486,
          0.01003864631922438,
          0.010240231167438487,
          0.009779250661048514,
          0.010961247248745237,
          0.010682692362341841,
          0.011123179078090168,
          0.010710640240069597,
          0.010676727875341805,
          0.010861836013664753,
          0.010747641067763861,
          0.010074200081707646,
          0.01027300509733136,
          0.010036810330476018,
          0.010080625512637198,
          0.010449779897884742,
          0.010912263971576878,
          0.010754172869569081,
          0.011078891661952014,
          0.01041377127684837,
          0.010795833135873161,
          0.01048716035054915,
          0.010667368729859794,
          0.010005090320303748,
          0.010507316711412458,
          0.010131694722333036,
          0.010055644103170685,
          0.009896539884364407,
          0.010551182229925567,
          0.010394315651252069,
          0.010861866788140363,
          0.010102436314226085,
          0.010922794705367693,
          0.010667776929525037,
          0.010436370185676166,
          0.010052519985197466,
          0.010515310172313115,
          0.009960570204420947,
          0.00979867541701727,
          0.009790708343110356,
          0.010319302478504445,
          0.01057631730553112,
          0.010590012450848006,
          0.010368659541369804,
          0.010575622223889998,
          0.010354315899069964,
          0.010461210386274615,
          0.009687831852691791,
          0.010683613438838316,
          0.009792888200557655,
          0.01034509003828348,
          0.010030403587306329,
          0.01058597065271255,
          0.010673033842356423,
          0.01059527447715107,
          0.010454890866736498,
          0.01072428772873964,
          0.010162193896908051,
          0.010467304071319041,
          0.009821763367782458,
          0.010240579549110194,
          0.009844141797500424,
          0.009914098871533996,
          0.010192149194654419,
          0.010499717077975364,
          0.010350018194907044,
          0.010165236379534277,
          0.010423458637700118,
          0.010426357643240517,
          0.010049451848612247,
          0.010330546443241048,
          0.009790867534876964,
          0.010296157618385003,
          0.00964706875952315,
          0.009745152812683955,
          0.00980494022903806,
          0.010506459926929031,
          0.010114249331694185,
          0.010040969153619725,
          0.010282254145053158,
          0.009991079755603984,
          0.010120666582254445,
          0.010183831600966583,
          0.009997526653946993,
          0.010075776073645952,
          0.009659405145457163,
          0.009846359901314015,
          0.010288487011658664,
          0.01031242718031679,
          0.009899464243054877,
          0.010302035563815336,
          0.010486528024622731,
          0.010120930519494179,
          0.01006529173182667,
          0.010055272575302393,
          0.010169654947668805,
          0.00996719393245018
         ]
        }
       ],
       "layout": {
        "template": {
         "data": {
          "bar": [
           {
            "error_x": {
             "color": "#2a3f5f"
            },
            "error_y": {
             "color": "#2a3f5f"
            },
            "marker": {
             "line": {
              "color": "#E5ECF6",
              "width": 0.5
             }
            },
            "type": "bar"
           }
          ],
          "barpolar": [
           {
            "marker": {
             "line": {
              "color": "#E5ECF6",
              "width": 0.5
             }
            },
            "type": "barpolar"
           }
          ],
          "carpet": [
           {
            "aaxis": {
             "endlinecolor": "#2a3f5f",
             "gridcolor": "white",
             "linecolor": "white",
             "minorgridcolor": "white",
             "startlinecolor": "#2a3f5f"
            },
            "baxis": {
             "endlinecolor": "#2a3f5f",
             "gridcolor": "white",
             "linecolor": "white",
             "minorgridcolor": "white",
             "startlinecolor": "#2a3f5f"
            },
            "type": "carpet"
           }
          ],
          "choropleth": [
           {
            "colorbar": {
             "outlinewidth": 0,
             "ticks": ""
            },
            "type": "choropleth"
           }
          ],
          "contour": [
           {
            "colorbar": {
             "outlinewidth": 0,
             "ticks": ""
            },
            "colorscale": [
             [
              0,
              "#0d0887"
             ],
             [
              0.1111111111111111,
              "#46039f"
             ],
             [
              0.2222222222222222,
              "#7201a8"
             ],
             [
              0.3333333333333333,
              "#9c179e"
             ],
             [
              0.4444444444444444,
              "#bd3786"
             ],
             [
              0.5555555555555556,
              "#d8576b"
             ],
             [
              0.6666666666666666,
              "#ed7953"
             ],
             [
              0.7777777777777778,
              "#fb9f3a"
             ],
             [
              0.8888888888888888,
              "#fdca26"
             ],
             [
              1,
              "#f0f921"
             ]
            ],
            "type": "contour"
           }
          ],
          "contourcarpet": [
           {
            "colorbar": {
             "outlinewidth": 0,
             "ticks": ""
            },
            "type": "contourcarpet"
           }
          ],
          "heatmap": [
           {
            "colorbar": {
             "outlinewidth": 0,
             "ticks": ""
            },
            "colorscale": [
             [
              0,
              "#0d0887"
             ],
             [
              0.1111111111111111,
              "#46039f"
             ],
             [
              0.2222222222222222,
              "#7201a8"
             ],
             [
              0.3333333333333333,
              "#9c179e"
             ],
             [
              0.4444444444444444,
              "#bd3786"
             ],
             [
              0.5555555555555556,
              "#d8576b"
             ],
             [
              0.6666666666666666,
              "#ed7953"
             ],
             [
              0.7777777777777778,
              "#fb9f3a"
             ],
             [
              0.8888888888888888,
              "#fdca26"
             ],
             [
              1,
              "#f0f921"
             ]
            ],
            "type": "heatmap"
           }
          ],
          "heatmapgl": [
           {
            "colorbar": {
             "outlinewidth": 0,
             "ticks": ""
            },
            "colorscale": [
             [
              0,
              "#0d0887"
             ],
             [
              0.1111111111111111,
              "#46039f"
             ],
             [
              0.2222222222222222,
              "#7201a8"
             ],
             [
              0.3333333333333333,
              "#9c179e"
             ],
             [
              0.4444444444444444,
              "#bd3786"
             ],
             [
              0.5555555555555556,
              "#d8576b"
             ],
             [
              0.6666666666666666,
              "#ed7953"
             ],
             [
              0.7777777777777778,
              "#fb9f3a"
             ],
             [
              0.8888888888888888,
              "#fdca26"
             ],
             [
              1,
              "#f0f921"
             ]
            ],
            "type": "heatmapgl"
           }
          ],
          "histogram": [
           {
            "marker": {
             "colorbar": {
              "outlinewidth": 0,
              "ticks": ""
             }
            },
            "type": "histogram"
           }
          ],
          "histogram2d": [
           {
            "colorbar": {
             "outlinewidth": 0,
             "ticks": ""
            },
            "colorscale": [
             [
              0,
              "#0d0887"
             ],
             [
              0.1111111111111111,
              "#46039f"
             ],
             [
              0.2222222222222222,
              "#7201a8"
             ],
             [
              0.3333333333333333,
              "#9c179e"
             ],
             [
              0.4444444444444444,
              "#bd3786"
             ],
             [
              0.5555555555555556,
              "#d8576b"
             ],
             [
              0.6666666666666666,
              "#ed7953"
             ],
             [
              0.7777777777777778,
              "#fb9f3a"
             ],
             [
              0.8888888888888888,
              "#fdca26"
             ],
             [
              1,
              "#f0f921"
             ]
            ],
            "type": "histogram2d"
           }
          ],
          "histogram2dcontour": [
           {
            "colorbar": {
             "outlinewidth": 0,
             "ticks": ""
            },
            "colorscale": [
             [
              0,
              "#0d0887"
             ],
             [
              0.1111111111111111,
              "#46039f"
             ],
             [
              0.2222222222222222,
              "#7201a8"
             ],
             [
              0.3333333333333333,
              "#9c179e"
             ],
             [
              0.4444444444444444,
              "#bd3786"
             ],
             [
              0.5555555555555556,
              "#d8576b"
             ],
             [
              0.6666666666666666,
              "#ed7953"
             ],
             [
              0.7777777777777778,
              "#fb9f3a"
             ],
             [
              0.8888888888888888,
              "#fdca26"
             ],
             [
              1,
              "#f0f921"
             ]
            ],
            "type": "histogram2dcontour"
           }
          ],
          "mesh3d": [
           {
            "colorbar": {
             "outlinewidth": 0,
             "ticks": ""
            },
            "type": "mesh3d"
           }
          ],
          "parcoords": [
           {
            "line": {
             "colorbar": {
              "outlinewidth": 0,
              "ticks": ""
             }
            },
            "type": "parcoords"
           }
          ],
          "pie": [
           {
            "automargin": true,
            "type": "pie"
           }
          ],
          "scatter": [
           {
            "marker": {
             "colorbar": {
              "outlinewidth": 0,
              "ticks": ""
             }
            },
            "type": "scatter"
           }
          ],
          "scatter3d": [
           {
            "line": {
             "colorbar": {
              "outlinewidth": 0,
              "ticks": ""
             }
            },
            "marker": {
             "colorbar": {
              "outlinewidth": 0,
              "ticks": ""
             }
            },
            "type": "scatter3d"
           }
          ],
          "scattercarpet": [
           {
            "marker": {
             "colorbar": {
              "outlinewidth": 0,
              "ticks": ""
             }
            },
            "type": "scattercarpet"
           }
          ],
          "scattergeo": [
           {
            "marker": {
             "colorbar": {
              "outlinewidth": 0,
              "ticks": ""
             }
            },
            "type": "scattergeo"
           }
          ],
          "scattergl": [
           {
            "marker": {
             "colorbar": {
              "outlinewidth": 0,
              "ticks": ""
             }
            },
            "type": "scattergl"
           }
          ],
          "scattermapbox": [
           {
            "marker": {
             "colorbar": {
              "outlinewidth": 0,
              "ticks": ""
             }
            },
            "type": "scattermapbox"
           }
          ],
          "scatterpolar": [
           {
            "marker": {
             "colorbar": {
              "outlinewidth": 0,
              "ticks": ""
             }
            },
            "type": "scatterpolar"
           }
          ],
          "scatterpolargl": [
           {
            "marker": {
             "colorbar": {
              "outlinewidth": 0,
              "ticks": ""
             }
            },
            "type": "scatterpolargl"
           }
          ],
          "scatterternary": [
           {
            "marker": {
             "colorbar": {
              "outlinewidth": 0,
              "ticks": ""
             }
            },
            "type": "scatterternary"
           }
          ],
          "surface": [
           {
            "colorbar": {
             "outlinewidth": 0,
             "ticks": ""
            },
            "colorscale": [
             [
              0,
              "#0d0887"
             ],
             [
              0.1111111111111111,
              "#46039f"
             ],
             [
              0.2222222222222222,
              "#7201a8"
             ],
             [
              0.3333333333333333,
              "#9c179e"
             ],
             [
              0.4444444444444444,
              "#bd3786"
             ],
             [
              0.5555555555555556,
              "#d8576b"
             ],
             [
              0.6666666666666666,
              "#ed7953"
             ],
             [
              0.7777777777777778,
              "#fb9f3a"
             ],
             [
              0.8888888888888888,
              "#fdca26"
             ],
             [
              1,
              "#f0f921"
             ]
            ],
            "type": "surface"
           }
          ],
          "table": [
           {
            "cells": {
             "fill": {
              "color": "#EBF0F8"
             },
             "line": {
              "color": "white"
             }
            },
            "header": {
             "fill": {
              "color": "#C8D4E3"
             },
             "line": {
              "color": "white"
             }
            },
            "type": "table"
           }
          ]
         },
         "layout": {
          "annotationdefaults": {
           "arrowcolor": "#2a3f5f",
           "arrowhead": 0,
           "arrowwidth": 1
          },
          "coloraxis": {
           "colorbar": {
            "outlinewidth": 0,
            "ticks": ""
           }
          },
          "colorscale": {
           "diverging": [
            [
             0,
             "#8e0152"
            ],
            [
             0.1,
             "#c51b7d"
            ],
            [
             0.2,
             "#de77ae"
            ],
            [
             0.3,
             "#f1b6da"
            ],
            [
             0.4,
             "#fde0ef"
            ],
            [
             0.5,
             "#f7f7f7"
            ],
            [
             0.6,
             "#e6f5d0"
            ],
            [
             0.7,
             "#b8e186"
            ],
            [
             0.8,
             "#7fbc41"
            ],
            [
             0.9,
             "#4d9221"
            ],
            [
             1,
             "#276419"
            ]
           ],
           "sequential": [
            [
             0,
             "#0d0887"
            ],
            [
             0.1111111111111111,
             "#46039f"
            ],
            [
             0.2222222222222222,
             "#7201a8"
            ],
            [
             0.3333333333333333,
             "#9c179e"
            ],
            [
             0.4444444444444444,
             "#bd3786"
            ],
            [
             0.5555555555555556,
             "#d8576b"
            ],
            [
             0.6666666666666666,
             "#ed7953"
            ],
            [
             0.7777777777777778,
             "#fb9f3a"
            ],
            [
             0.8888888888888888,
             "#fdca26"
            ],
            [
             1,
             "#f0f921"
            ]
           ],
           "sequentialminus": [
            [
             0,
             "#0d0887"
            ],
            [
             0.1111111111111111,
             "#46039f"
            ],
            [
             0.2222222222222222,
             "#7201a8"
            ],
            [
             0.3333333333333333,
             "#9c179e"
            ],
            [
             0.4444444444444444,
             "#bd3786"
            ],
            [
             0.5555555555555556,
             "#d8576b"
            ],
            [
             0.6666666666666666,
             "#ed7953"
            ],
            [
             0.7777777777777778,
             "#fb9f3a"
            ],
            [
             0.8888888888888888,
             "#fdca26"
            ],
            [
             1,
             "#f0f921"
            ]
           ]
          },
          "colorway": [
           "#636efa",
           "#EF553B",
           "#00cc96",
           "#ab63fa",
           "#FFA15A",
           "#19d3f3",
           "#FF6692",
           "#B6E880",
           "#FF97FF",
           "#FECB52"
          ],
          "font": {
           "color": "#2a3f5f"
          },
          "geo": {
           "bgcolor": "white",
           "lakecolor": "white",
           "landcolor": "#E5ECF6",
           "showlakes": true,
           "showland": true,
           "subunitcolor": "white"
          },
          "hoverlabel": {
           "align": "left"
          },
          "hovermode": "closest",
          "mapbox": {
           "style": "light"
          },
          "paper_bgcolor": "white",
          "plot_bgcolor": "#E5ECF6",
          "polar": {
           "angularaxis": {
            "gridcolor": "white",
            "linecolor": "white",
            "ticks": ""
           },
           "bgcolor": "#E5ECF6",
           "radialaxis": {
            "gridcolor": "white",
            "linecolor": "white",
            "ticks": ""
           }
          },
          "scene": {
           "xaxis": {
            "backgroundcolor": "#E5ECF6",
            "gridcolor": "white",
            "gridwidth": 2,
            "linecolor": "white",
            "showbackground": true,
            "ticks": "",
            "zerolinecolor": "white"
           },
           "yaxis": {
            "backgroundcolor": "#E5ECF6",
            "gridcolor": "white",
            "gridwidth": 2,
            "linecolor": "white",
            "showbackground": true,
            "ticks": "",
            "zerolinecolor": "white"
           },
           "zaxis": {
            "backgroundcolor": "#E5ECF6",
            "gridcolor": "white",
            "gridwidth": 2,
            "linecolor": "white",
            "showbackground": true,
            "ticks": "",
            "zerolinecolor": "white"
           }
          },
          "shapedefaults": {
           "line": {
            "color": "#2a3f5f"
           }
          },
          "ternary": {
           "aaxis": {
            "gridcolor": "white",
            "linecolor": "white",
            "ticks": ""
           },
           "baxis": {
            "gridcolor": "white",
            "linecolor": "white",
            "ticks": ""
           },
           "bgcolor": "#E5ECF6",
           "caxis": {
            "gridcolor": "white",
            "linecolor": "white",
            "ticks": ""
           }
          },
          "title": {
           "x": 0.05
          },
          "xaxis": {
           "automargin": true,
           "gridcolor": "white",
           "linecolor": "white",
           "ticks": "",
           "title": {
            "standoff": 15
           },
           "zerolinecolor": "white",
           "zerolinewidth": 2
          },
          "yaxis": {
           "automargin": true,
           "gridcolor": "white",
           "linecolor": "white",
           "ticks": "",
           "title": {
            "standoff": 15
           },
           "zerolinecolor": "white",
           "zerolinewidth": 2
          }
         }
        }
       }
      },
      "text/html": [
       "<div>\n",
       "        \n",
       "        \n",
       "            <div id=\"5e8c4bd7-dd72-46c9-8aca-cca08b39002f\" class=\"plotly-graph-div\" style=\"height:525px; width:100%;\"></div>\n",
       "            <script type=\"text/javascript\">\n",
       "                require([\"plotly\"], function(Plotly) {\n",
       "                    window.PLOTLYENV=window.PLOTLYENV || {};\n",
       "                    \n",
       "                if (document.getElementById(\"5e8c4bd7-dd72-46c9-8aca-cca08b39002f\")) {\n",
       "                    Plotly.newPlot(\n",
       "                        '5e8c4bd7-dd72-46c9-8aca-cca08b39002f',\n",
       "                        [{\"color\": \"rgba(244,22,100,0.6)\", \"opacity\": 0.5, \"type\": \"mesh3d\", \"x\": [2, 2, 2, 2, 2, 2, 2, 2, 2, 2, 2, 2, 3, 3, 3, 3, 3, 3, 3, 3, 3, 3, 3, 3, 4, 4, 4, 4, 4, 4, 4, 4, 4, 4, 4, 4, 5, 5, 5, 5, 5, 5, 5, 5, 5, 5, 5, 5, 6, 6, 6, 6, 6, 6, 6, 6, 6, 6, 6, 6, 7, 7, 7, 7, 7, 7, 7, 7, 7, 7, 7, 7, 8, 8, 8, 8, 8, 8, 8, 8, 8, 8, 8, 8, 9, 9, 9, 9, 9, 9, 9, 9, 9, 9, 9, 9, 10, 10, 10, 10, 10, 10, 10, 10, 10, 10, 10, 10, 11, 11, 11, 11, 11, 11, 11, 11, 11, 11, 11, 11, 12, 12, 12, 12, 12, 12, 12, 12, 12, 12, 12, 12, 13, 13, 13, 13, 13, 13, 13, 13, 13, 13, 13, 13, 14, 14, 14, 14, 14, 14, 14, 14, 14, 14, 14, 14, 15, 15, 15, 15, 15, 15, 15, 15, 15, 15, 15, 15, 16, 16, 16, 16, 16, 16, 16, 16, 16, 16, 16, 16, 17, 17, 17, 17, 17, 17, 17, 17, 17, 17, 17, 17, 18, 18, 18, 18, 18, 18, 18, 18, 18, 18, 18, 18, 19, 19, 19, 19, 19, 19, 19, 19, 19, 19, 19, 19, 20, 20, 20, 20, 20, 20, 20, 20, 20, 20, 20, 20], \"y\": [0.058945458700364495, 0.3706511575410173, 0.4025860475748937, 0.515594628235241, 0.22189059438575176, 0.0963435209101896, 0.26670740236153245, 0.34072174301254576, 0.0547968921207892, 0.07682400399009226, 0.29040400703185465, 0.31030357852726975, 0.18723367164347682, 0.08201439870005234, 0.3339240499685997, 0.17732288240366034, 0.26183686928790817, 0.3409750982730124, 0.16459251495277394, 0.10187604743633161, 0.21725076844284963, 0.0, 0.12020540775407196, 0.38255179006204965, 0.3989233529592294, 0.4214200866637777, 0.38175284139631216, 0.06642475210835008, 0.733331962265052, 0.31472128766084295, 0.2763601606803583, 0.40675251921816147, 0.14625750157770345, 0.3132702500662372, 0.11753000370187028, 0.5654791886514092, 0.2865223731708877, 0.25893216840519895, 0.4182414661791578, 0.169794422718474, 0.8168830646486535, 0.44532225296161954, 0.10377426863908001, 0.18147834849369948, 0.1720687798013808, 0.39054681562374727, 0.4777537077338322, 0.36446847346391464, 0.27204324511335387, 0.30194396886003805, 0.579079430599717, 0.13487261966670594, 0.8027402842224372, 0.578389589080776, 0.3929473998746077, 0.16221143961874585, 0.35920733539392247, 0.5421961457750185, 0.37952618009989925, 0.5751129895444358, 0.2914450242870785, 0.41584487613978693, 0.44711707384735544, 0.6182078239573986, 0.6883419141928853, 0.39003404369214056, 0.36253067148441476, 0.2663440085248432, 0.6177176649130449, 0.3748857487168509, 0.564049446313986, 0.29838980671235116, 0.23953330805966466, 0.41232075280248215, 0.5449250610816947, 0.5227660291441476, 0.6673442366964237, 0.4057208852989693, 0.5685380094840542, 0.20578391037834187, 0.45944157785671413, 0.33587364155851585, 0.6143552996217566, 0.32812345843123647, 0.3267441467931732, 0.2726753760535443, 0.5852173752772452, 0.4794653003099649, 0.5978076093246196, 0.3378952034165644, 0.4417764729268947, 0.2013807444000444, 0.5996694265439165, 0.48503482638229967, 0.7714743992447773, 0.2915520612805955, 0.31366779393884103, 0.4393464162270687, 0.577484314884837, 0.5751102583299542, 0.4996132391678616, 0.4176616418687905, 0.5565145112313032, 0.23025337522307077, 0.5978999686661882, 0.5242924478813825, 0.7185466649712999, 0.39502540977120937, 0.44937897101057367, 0.4167001785041755, 0.5423658626765089, 0.6172597216503096, 0.49132679098705057, 0.28777939704520095, 0.5784026785842198, 0.3382196659747353, 0.45202586868001304, 0.5581787641080906, 0.6600014339260372, 0.60163407943463, 0.5049516753428381, 0.6182801724108773, 0.5594998919852376, 0.5714958064933136, 0.4972524496456082, 0.46465519254425713, 0.5539093574888976, 0.3523872626790566, 0.5365015534142248, 0.5181455753454709, 0.6205465007438363, 0.6319957383008201, 0.576495908525126, 0.5445379519750736, 0.6522591611658668, 0.5774055213178106, 0.4393239262046895, 0.41412478264727925, 0.47350738096851364, 0.3617685811422813, 0.5390106202606356, 0.46005122289392375, 0.7448180561715037, 0.7813506150616614, 0.7313224309139676, 0.596436486007955, 0.5542275255608662, 0.47236564780613877, 0.4458661964072391, 0.45827832339225305, 0.6846134207142511, 0.4498317175806966, 0.5664767454493008, 0.5251962158994175, 0.7139804792365592, 0.6543833311838414, 0.6912926440979392, 0.6574882678237481, 0.6493424977469849, 0.8027572143039889, 0.5087905654247084, 0.5012991686654205, 0.7765963242312587, 0.4647302944782583, 0.4889328113251542, 0.5700589003429415, 0.8101969381402223, 0.6305785265071832, 0.6412561980385346, 0.7654089923472711, 0.7295611448479844, 0.5918904324876892, 0.5376357294883624, 0.5699132229075463, 0.707638451992445, 0.5932221269982431, 0.6496489911835904, 0.6841205949900828, 1.0, 0.6514842042532832, 0.8134442445193892, 0.5571299235458241, 0.6511113077503472, 0.487909265045939, 0.4496949643551763, 0.5068885984814795, 0.6273497884586894, 0.7495407702777446, 0.6817442261539595, 0.5752410247812074, 0.9497692040562496, 0.7535900040223978, 0.7586627068455972, 0.6812780104610942, 0.6953989183215554, 0.578858810891679, 0.6421494115867454, 0.6394769300712828, 0.621059512077595, 0.7022818135969535, 0.6851268765707699, 0.7070262217243631, 0.9740401605999788, 0.8215929912426557, 0.8466648969468831, 0.7789450916740015, 0.7115630081671962, 0.5871086701397159, 0.647603777910839, 0.7079114746727756, 0.7648244437776961, 0.7360357030485405, 0.7376214635253939, 0.8095372781163599, 0.9419152705468916, 0.9322442307135346, 0.8697995330185483, 0.7737692353128067, 0.672186959077846, 0.787576445137697, 0.7600663835127003, 0.6383964855034099, 0.6894792923044142, 0.7167412392572645, 0.7024205920208697, 0.8252050681166923, 0.8655825964625667, 0.9739877319662452], \"z\": [0.01124092093668878, 0.010436157457297666, 0.011386079539079219, 0.011418200674233958, 0.010394323489163072, 0.012813808576902374, 0.011250149412080645, 0.010876213351730257, 0.011894277977989986, 0.011096175416605548, 0.01059768283739686, 0.01145462318090722, 0.011957566657414037, 0.011212013989764576, 0.011427156856128324, 0.011623616642706716, 0.010991058884731805, 0.01210117992401744, 0.01173145596209603, 0.011600742572530484, 0.01144029872957617, 0.011640392967577401, 0.01130887561206085, 0.011965276735524338, 0.011004163668258116, 0.010532399685083267, 0.010815326049729871, 0.011161564481638683, 0.010831246048716518, 0.011530963584664279, 0.011226091318530963, 0.0117976587935118, 0.011731609972775914, 0.011291465834559254, 0.011298426243592985, 0.011555325081765962, 0.010809267241274938, 0.01132813160715159, 0.011126936974469573, 0.010783060838002711, 0.010771981762372889, 0.011131109092384578, 0.01147204256383702, 0.012109877337934451, 0.011507227053516544, 0.010897046661702915, 0.010685541345737874, 0.011809807224199175, 0.010824841537590451, 0.011475072061875835, 0.010663643380782255, 0.011194472694381452, 0.010940792203570407, 0.01097367288505969, 0.0108492650235227, 0.012176587546709925, 0.0108832593774423, 0.01052518377546221, 0.01089160145454419, 0.011648582307777057, 0.011183419261526847, 0.010741800988658465, 0.010738878391982455, 0.010311085285086716, 0.010769433612447409, 0.011362820369790172, 0.010597668731463184, 0.011319124718873008, 0.010535090970474162, 0.011114886147801631, 0.010599834832274132, 0.011801372844326708, 0.011070749411633838, 0.010833416816811742, 0.01050232612885468, 0.010482604818701344, 0.01058065158971918, 0.011188337344460056, 0.010732842268979376, 0.011442243390566934, 0.011061345921604826, 0.010765503813828608, 0.010523935312396914, 0.011383438236953225, 0.010676389550725515, 0.01105997296237749, 0.010317327585653404, 0.010854688942587624, 0.010584266810231687, 0.011368053453689854, 0.010835324326277866, 0.011608040301426727, 0.01057748664445373, 0.010701061778268519, 0.010275569142928966, 0.011003435281034197, 0.010709104809082218, 0.010575277859655521, 0.01045089337741956, 0.010384437491755103, 0.010856376937331838, 0.011142751499493089, 0.010941109266520168, 0.011250881157918937, 0.010616569274958843, 0.01042839084764839, 0.010104049031053566, 0.011302994103170932, 0.010399683298839424, 0.010413658116012813, 0.010619492571250621, 0.01050595781755295, 0.010717063049616463, 0.011371923910707911, 0.010787812928796157, 0.010937748860398479, 0.010862740328302607, 0.010375550855586137, 0.010296116644008594, 0.010767502989408307, 0.01032191441309723, 0.01017357088143895, 0.01029110800115053, 0.010773155916302292, 0.010677083077836977, 0.010815759383452436, 0.010716016929081612, 0.010651803721857226, 0.010713407934544552, 0.010715287763389024, 0.010554841793738445, 0.010632971419148486, 0.01003864631922438, 0.010240231167438487, 0.009779250661048514, 0.010961247248745237, 0.010682692362341841, 0.011123179078090168, 0.010710640240069597, 0.010676727875341805, 0.010861836013664753, 0.010747641067763861, 0.010074200081707646, 0.01027300509733136, 0.010036810330476018, 0.010080625512637198, 0.010449779897884742, 0.010912263971576878, 0.010754172869569081, 0.011078891661952014, 0.01041377127684837, 0.010795833135873161, 0.01048716035054915, 0.010667368729859794, 0.010005090320303748, 0.010507316711412458, 0.010131694722333036, 0.010055644103170685, 0.009896539884364407, 0.010551182229925567, 0.010394315651252069, 0.010861866788140363, 0.010102436314226085, 0.010922794705367693, 0.010667776929525037, 0.010436370185676166, 0.010052519985197466, 0.010515310172313115, 0.009960570204420947, 0.00979867541701727, 0.009790708343110356, 0.010319302478504445, 0.01057631730553112, 0.010590012450848006, 0.010368659541369804, 0.010575622223889998, 0.010354315899069964, 0.010461210386274615, 0.009687831852691791, 0.010683613438838316, 0.009792888200557655, 0.01034509003828348, 0.010030403587306329, 0.01058597065271255, 0.010673033842356423, 0.01059527447715107, 0.010454890866736498, 0.01072428772873964, 0.010162193896908051, 0.010467304071319041, 0.009821763367782458, 0.010240579549110194, 0.009844141797500424, 0.009914098871533996, 0.010192149194654419, 0.010499717077975364, 0.010350018194907044, 0.010165236379534277, 0.010423458637700118, 0.010426357643240517, 0.010049451848612247, 0.010330546443241048, 0.009790867534876964, 0.010296157618385003, 0.00964706875952315, 0.009745152812683955, 0.00980494022903806, 0.010506459926929031, 0.010114249331694185, 0.010040969153619725, 0.010282254145053158, 0.009991079755603984, 0.010120666582254445, 0.010183831600966583, 0.009997526653946993, 0.010075776073645952, 0.009659405145457163, 0.009846359901314015, 0.010288487011658664, 0.01031242718031679, 0.009899464243054877, 0.010302035563815336, 0.010486528024622731, 0.010120930519494179, 0.01006529173182667, 0.010055272575302393, 0.010169654947668805, 0.00996719393245018]}],\n",
       "                        {\"template\": {\"data\": {\"bar\": [{\"error_x\": {\"color\": \"#2a3f5f\"}, \"error_y\": {\"color\": \"#2a3f5f\"}, \"marker\": {\"line\": {\"color\": \"#E5ECF6\", \"width\": 0.5}}, \"type\": \"bar\"}], \"barpolar\": [{\"marker\": {\"line\": {\"color\": \"#E5ECF6\", \"width\": 0.5}}, \"type\": \"barpolar\"}], \"carpet\": [{\"aaxis\": {\"endlinecolor\": \"#2a3f5f\", \"gridcolor\": \"white\", \"linecolor\": \"white\", \"minorgridcolor\": \"white\", \"startlinecolor\": \"#2a3f5f\"}, \"baxis\": {\"endlinecolor\": \"#2a3f5f\", \"gridcolor\": \"white\", \"linecolor\": \"white\", \"minorgridcolor\": \"white\", \"startlinecolor\": \"#2a3f5f\"}, \"type\": \"carpet\"}], \"choropleth\": [{\"colorbar\": {\"outlinewidth\": 0, \"ticks\": \"\"}, \"type\": \"choropleth\"}], \"contour\": [{\"colorbar\": {\"outlinewidth\": 0, \"ticks\": \"\"}, \"colorscale\": [[0.0, \"#0d0887\"], [0.1111111111111111, \"#46039f\"], [0.2222222222222222, \"#7201a8\"], [0.3333333333333333, \"#9c179e\"], [0.4444444444444444, \"#bd3786\"], [0.5555555555555556, \"#d8576b\"], [0.6666666666666666, \"#ed7953\"], [0.7777777777777778, \"#fb9f3a\"], [0.8888888888888888, \"#fdca26\"], [1.0, \"#f0f921\"]], \"type\": \"contour\"}], \"contourcarpet\": [{\"colorbar\": {\"outlinewidth\": 0, \"ticks\": \"\"}, \"type\": \"contourcarpet\"}], \"heatmap\": [{\"colorbar\": {\"outlinewidth\": 0, \"ticks\": \"\"}, \"colorscale\": [[0.0, \"#0d0887\"], [0.1111111111111111, \"#46039f\"], [0.2222222222222222, \"#7201a8\"], [0.3333333333333333, \"#9c179e\"], [0.4444444444444444, \"#bd3786\"], [0.5555555555555556, \"#d8576b\"], [0.6666666666666666, \"#ed7953\"], [0.7777777777777778, \"#fb9f3a\"], [0.8888888888888888, \"#fdca26\"], [1.0, \"#f0f921\"]], \"type\": \"heatmap\"}], \"heatmapgl\": [{\"colorbar\": {\"outlinewidth\": 0, \"ticks\": \"\"}, \"colorscale\": [[0.0, \"#0d0887\"], [0.1111111111111111, \"#46039f\"], [0.2222222222222222, \"#7201a8\"], [0.3333333333333333, \"#9c179e\"], [0.4444444444444444, \"#bd3786\"], [0.5555555555555556, \"#d8576b\"], [0.6666666666666666, \"#ed7953\"], [0.7777777777777778, \"#fb9f3a\"], [0.8888888888888888, \"#fdca26\"], [1.0, \"#f0f921\"]], \"type\": \"heatmapgl\"}], \"histogram\": [{\"marker\": {\"colorbar\": {\"outlinewidth\": 0, \"ticks\": \"\"}}, \"type\": \"histogram\"}], \"histogram2d\": [{\"colorbar\": {\"outlinewidth\": 0, \"ticks\": \"\"}, \"colorscale\": [[0.0, \"#0d0887\"], [0.1111111111111111, \"#46039f\"], [0.2222222222222222, \"#7201a8\"], [0.3333333333333333, \"#9c179e\"], [0.4444444444444444, \"#bd3786\"], [0.5555555555555556, \"#d8576b\"], [0.6666666666666666, \"#ed7953\"], [0.7777777777777778, \"#fb9f3a\"], [0.8888888888888888, \"#fdca26\"], [1.0, \"#f0f921\"]], \"type\": \"histogram2d\"}], \"histogram2dcontour\": [{\"colorbar\": {\"outlinewidth\": 0, \"ticks\": \"\"}, \"colorscale\": [[0.0, \"#0d0887\"], [0.1111111111111111, \"#46039f\"], [0.2222222222222222, \"#7201a8\"], [0.3333333333333333, \"#9c179e\"], [0.4444444444444444, \"#bd3786\"], [0.5555555555555556, \"#d8576b\"], [0.6666666666666666, \"#ed7953\"], [0.7777777777777778, \"#fb9f3a\"], [0.8888888888888888, \"#fdca26\"], [1.0, \"#f0f921\"]], \"type\": \"histogram2dcontour\"}], \"mesh3d\": [{\"colorbar\": {\"outlinewidth\": 0, \"ticks\": \"\"}, \"type\": \"mesh3d\"}], \"parcoords\": [{\"line\": {\"colorbar\": {\"outlinewidth\": 0, \"ticks\": \"\"}}, \"type\": \"parcoords\"}], \"pie\": [{\"automargin\": true, \"type\": \"pie\"}], \"scatter\": [{\"marker\": {\"colorbar\": {\"outlinewidth\": 0, \"ticks\": \"\"}}, \"type\": \"scatter\"}], \"scatter3d\": [{\"line\": {\"colorbar\": {\"outlinewidth\": 0, \"ticks\": \"\"}}, \"marker\": {\"colorbar\": {\"outlinewidth\": 0, \"ticks\": \"\"}}, \"type\": \"scatter3d\"}], \"scattercarpet\": [{\"marker\": {\"colorbar\": {\"outlinewidth\": 0, \"ticks\": \"\"}}, \"type\": \"scattercarpet\"}], \"scattergeo\": [{\"marker\": {\"colorbar\": {\"outlinewidth\": 0, \"ticks\": \"\"}}, \"type\": \"scattergeo\"}], \"scattergl\": [{\"marker\": {\"colorbar\": {\"outlinewidth\": 0, \"ticks\": \"\"}}, \"type\": \"scattergl\"}], \"scattermapbox\": [{\"marker\": {\"colorbar\": {\"outlinewidth\": 0, \"ticks\": \"\"}}, \"type\": \"scattermapbox\"}], \"scatterpolar\": [{\"marker\": {\"colorbar\": {\"outlinewidth\": 0, \"ticks\": \"\"}}, \"type\": \"scatterpolar\"}], \"scatterpolargl\": [{\"marker\": {\"colorbar\": {\"outlinewidth\": 0, \"ticks\": \"\"}}, \"type\": \"scatterpolargl\"}], \"scatterternary\": [{\"marker\": {\"colorbar\": {\"outlinewidth\": 0, \"ticks\": \"\"}}, \"type\": \"scatterternary\"}], \"surface\": [{\"colorbar\": {\"outlinewidth\": 0, \"ticks\": \"\"}, \"colorscale\": [[0.0, \"#0d0887\"], [0.1111111111111111, \"#46039f\"], [0.2222222222222222, \"#7201a8\"], [0.3333333333333333, \"#9c179e\"], [0.4444444444444444, \"#bd3786\"], [0.5555555555555556, \"#d8576b\"], [0.6666666666666666, \"#ed7953\"], [0.7777777777777778, \"#fb9f3a\"], [0.8888888888888888, \"#fdca26\"], [1.0, \"#f0f921\"]], \"type\": \"surface\"}], \"table\": [{\"cells\": {\"fill\": {\"color\": \"#EBF0F8\"}, \"line\": {\"color\": \"white\"}}, \"header\": {\"fill\": {\"color\": \"#C8D4E3\"}, \"line\": {\"color\": \"white\"}}, \"type\": \"table\"}]}, \"layout\": {\"annotationdefaults\": {\"arrowcolor\": \"#2a3f5f\", \"arrowhead\": 0, \"arrowwidth\": 1}, \"coloraxis\": {\"colorbar\": {\"outlinewidth\": 0, \"ticks\": \"\"}}, \"colorscale\": {\"diverging\": [[0, \"#8e0152\"], [0.1, \"#c51b7d\"], [0.2, \"#de77ae\"], [0.3, \"#f1b6da\"], [0.4, \"#fde0ef\"], [0.5, \"#f7f7f7\"], [0.6, \"#e6f5d0\"], [0.7, \"#b8e186\"], [0.8, \"#7fbc41\"], [0.9, \"#4d9221\"], [1, \"#276419\"]], \"sequential\": [[0.0, \"#0d0887\"], [0.1111111111111111, \"#46039f\"], [0.2222222222222222, \"#7201a8\"], [0.3333333333333333, \"#9c179e\"], [0.4444444444444444, \"#bd3786\"], [0.5555555555555556, \"#d8576b\"], [0.6666666666666666, \"#ed7953\"], [0.7777777777777778, \"#fb9f3a\"], [0.8888888888888888, \"#fdca26\"], [1.0, \"#f0f921\"]], \"sequentialminus\": [[0.0, \"#0d0887\"], [0.1111111111111111, \"#46039f\"], [0.2222222222222222, \"#7201a8\"], [0.3333333333333333, \"#9c179e\"], [0.4444444444444444, \"#bd3786\"], [0.5555555555555556, \"#d8576b\"], [0.6666666666666666, \"#ed7953\"], [0.7777777777777778, \"#fb9f3a\"], [0.8888888888888888, \"#fdca26\"], [1.0, \"#f0f921\"]]}, \"colorway\": [\"#636efa\", \"#EF553B\", \"#00cc96\", \"#ab63fa\", \"#FFA15A\", \"#19d3f3\", \"#FF6692\", \"#B6E880\", \"#FF97FF\", \"#FECB52\"], \"font\": {\"color\": \"#2a3f5f\"}, \"geo\": {\"bgcolor\": \"white\", \"lakecolor\": \"white\", \"landcolor\": \"#E5ECF6\", \"showlakes\": true, \"showland\": true, \"subunitcolor\": \"white\"}, \"hoverlabel\": {\"align\": \"left\"}, \"hovermode\": \"closest\", \"mapbox\": {\"style\": \"light\"}, \"paper_bgcolor\": \"white\", \"plot_bgcolor\": \"#E5ECF6\", \"polar\": {\"angularaxis\": {\"gridcolor\": \"white\", \"linecolor\": \"white\", \"ticks\": \"\"}, \"bgcolor\": \"#E5ECF6\", \"radialaxis\": {\"gridcolor\": \"white\", \"linecolor\": \"white\", \"ticks\": \"\"}}, \"scene\": {\"xaxis\": {\"backgroundcolor\": \"#E5ECF6\", \"gridcolor\": \"white\", \"gridwidth\": 2, \"linecolor\": \"white\", \"showbackground\": true, \"ticks\": \"\", \"zerolinecolor\": \"white\"}, \"yaxis\": {\"backgroundcolor\": \"#E5ECF6\", \"gridcolor\": \"white\", \"gridwidth\": 2, \"linecolor\": \"white\", \"showbackground\": true, \"ticks\": \"\", \"zerolinecolor\": \"white\"}, \"zaxis\": {\"backgroundcolor\": \"#E5ECF6\", \"gridcolor\": \"white\", \"gridwidth\": 2, \"linecolor\": \"white\", \"showbackground\": true, \"ticks\": \"\", \"zerolinecolor\": \"white\"}}, \"shapedefaults\": {\"line\": {\"color\": \"#2a3f5f\"}}, \"ternary\": {\"aaxis\": {\"gridcolor\": \"white\", \"linecolor\": \"white\", \"ticks\": \"\"}, \"baxis\": {\"gridcolor\": \"white\", \"linecolor\": \"white\", \"ticks\": \"\"}, \"bgcolor\": \"#E5ECF6\", \"caxis\": {\"gridcolor\": \"white\", \"linecolor\": \"white\", \"ticks\": \"\"}}, \"title\": {\"x\": 0.05}, \"xaxis\": {\"automargin\": true, \"gridcolor\": \"white\", \"linecolor\": \"white\", \"ticks\": \"\", \"title\": {\"standoff\": 15}, \"zerolinecolor\": \"white\", \"zerolinewidth\": 2}, \"yaxis\": {\"automargin\": true, \"gridcolor\": \"white\", \"linecolor\": \"white\", \"ticks\": \"\", \"title\": {\"standoff\": 15}, \"zerolinecolor\": \"white\", \"zerolinewidth\": 2}}}},\n",
       "                        {\"responsive\": true}\n",
       "                    ).then(function(){\n",
       "                            \n",
       "var gd = document.getElementById('5e8c4bd7-dd72-46c9-8aca-cca08b39002f');\n",
       "var x = new MutationObserver(function (mutations, observer) {{\n",
       "        var display = window.getComputedStyle(gd).display;\n",
       "        if (!display || display === 'none') {{\n",
       "            console.log([gd, 'removed!']);\n",
       "            Plotly.purge(gd);\n",
       "            observer.disconnect();\n",
       "        }}\n",
       "}});\n",
       "\n",
       "// Listen for the removal of the full notebook cells\n",
       "var notebookContainer = gd.closest('#notebook-container');\n",
       "if (notebookContainer) {{\n",
       "    x.observe(notebookContainer, {childList: true});\n",
       "}}\n",
       "\n",
       "// Listen for the clearing of the current output cell\n",
       "var outputEl = gd.closest('.output');\n",
       "if (outputEl) {{\n",
       "    x.observe(outputEl, {childList: true});\n",
       "}}\n",
       "\n",
       "                        })\n",
       "                };\n",
       "                });\n",
       "            </script>\n",
       "        </div>"
      ]
     },
     "metadata": {},
     "output_type": "display_data"
    }
   ],
   "source": [
    "fig = go.Figure(data=[go.Mesh3d(x=df_log['n_topics'],\n",
    "                   y=df_log['coherence (umass)'].apply(lambda x: 1- rescale(x, l=df_log['coherence (umass)'])),\n",
    "                   z=df_log['penalty'],\n",
    "                   opacity=0.5,\n",
    "                   color='rgba(244,22,100,0.6)'\n",
    "                  )])\n",
    "fig.show()"
   ]
  },
  {
   "cell_type": "code",
   "execution_count": 220,
   "metadata": {},
   "outputs": [
    {
     "data": {
      "image/png": "[encoded data removed]",
      "text/plain": [
       "<Figure size 720x360 with 1 Axes>"
      ]
     },
     "metadata": {},
     "output_type": "display_data"
    }
   ],
   "source": [
    "# Try some other graphs to see if any pattern emerges\n",
    "fig3 = plt.figure(figsize=(10,5))\n",
    "ax3 = fig3.add_subplot(111)\n",
    "ax3.set_title('Coherence - BBC')\n",
    "plt.scatter(df_log['n_topics'], df_log['coherence (umass)'])\n",
    "ax3.set_xlabel('Number of Topics')\n",
    "ax3.set_ylabel('Coherence')\n",
    "plt.show()"
   ]
  },
  {
   "cell_type": "code",
   "execution_count": 221,
   "metadata": {},
   "outputs": [
    {
     "data": {
      "image/png": "[encoded data removed]",
      "text/plain": [
       "<Figure size 720x360 with 1 Axes>"
      ]
     },
     "metadata": {},
     "output_type": "display_data"
    }
   ],
   "source": [
    "# Try some other graphs to see if any pattern emerges\n",
    "fig3 = plt.figure(figsize=(10,5))\n",
    "ax3 = fig3.add_subplot(111)\n",
    "ax3.set_title('Penalty - BBC')\n",
    "plt.scatter(df_log['n_topics'], df_log['penalty'])\n",
    "ax3.set_xlabel('Number of Topics')\n",
    "ax3.set_ylabel('Penalty')\n",
    "plt.show()"
   ]
  },
  {
   "cell_type": "code",
   "execution_count": 222,
   "metadata": {},
   "outputs": [
    {
     "data": {
      "image/png": "[encoded data removed]",
      "text/plain": [
       "<Figure size 720x360 with 1 Axes>"
      ]
     },
     "metadata": {},
     "output_type": "display_data"
    }
   ],
   "source": [
    "loss = []\n",
    "for _, row in df_log.iterrows():\n",
    "    coherence = 1- rescale(row['coherence (umass)'], l=df_log['coherence (umass)'])\n",
    "    penalty = rescale(row['penalty'], l=df_log['penalty'])\n",
    "    loss.append(coherence + penalty)\n",
    "    \n",
    "# Try some other graphs to see if any pattern emerges\n",
    "fig3 = plt.figure(figsize=(10,5))\n",
    "ax3 = fig3.add_subplot(111)\n",
    "ax3.set_title('Loss - BBC')\n",
    "plt.scatter(df_log['n_topics'], loss)\n",
    "ax3.set_xlabel('Number of Topics')\n",
    "ax3.set_ylabel('Loss')\n",
    "plt.show()"
   ]
  },
  {
   "cell_type": "code",
   "execution_count": 223,
   "metadata": {},
   "outputs": [
    {
     "data": {
      "text/plain": [
       "[(0,\n",
       "  '0.006*\"mr\" + 0.004*\"get\" + 0.004*\"one\" + 0.004*\"people\" + 0.004*\"u\" + 0.004*\"but\" + 0.004*\"new\" + 0.004*\"take\" + 0.004*\"he\" + 0.003*\"game\"'),\n",
       " (1,\n",
       "  '0.007*\"mr\" + 0.005*\"people\" + 0.004*\"new\" + 0.004*\"time\" + 0.004*\"u\" + 0.004*\"go\" + 0.003*\"he\" + 0.003*\"take\" + 0.003*\"one\" + 0.003*\"last\"')]"
      ]
     },
     "execution_count": 223,
     "metadata": {},
     "output_type": "execute_result"
    }
   ],
   "source": [
    "minimum = loss.index(min(loss))\n",
    "m = df_log.iloc[minimum]\n",
    "lda = LdaModel(corpus, id2word=dictionary, num_topics=m['n_topics'], random_state=int(m['random_state']))\n",
    "lda.print_topics(num_topics=-1)"
   ]
  },
  {
   "cell_type": "code",
   "execution_count": null,
   "metadata": {},
   "outputs": [],
   "source": []
  }
 ],
 "metadata": {
  "kernelspec": {
   "display_name": "Python 3",
   "language": "python",
   "name": "python3"
  },
  "language_info": {
   "codemirror_mode": {
    "name": "ipython",
    "version": 3
   },
   "file_extension": ".py",
   "mimetype": "text/x-python",
   "name": "python",
   "nbconvert_exporter": "python",
   "pygments_lexer": "ipython3",
   "version": "3.7.4"
  }
 },
 "nbformat": 4,
 "nbformat_minor": 2
}
