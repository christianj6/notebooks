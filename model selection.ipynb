{
 "cells": [
  {
   "cell_type": "markdown",
   "metadata": {},
   "source": [
    "### Model Selection\n",
    "This notebook demonstrates a simple model selection workflow using a variety of sklearn estimators and utility functions. The task is a text classification task where texts are represented as the mean fasttext embedding of the constituent tokens after some minimal preprocessing."
   ]
  },
  {
   "cell_type": "code",
   "execution_count": 1,
   "metadata": {},
   "outputs": [],
   "source": [
    "from sklearn.metrics import accuracy_score, f1_score, confusion_matrix\n",
    "from sklearn.neighbors import NearestCentroid, KNeighborsClassifier, RadiusNeighborsClassifier\n",
    "from sklearn.linear_model import LogisticRegression\n",
    "from sklearn.model_selection import GridSearchCV, KFold\n",
    "from sklearn.ensemble import RandomForestClassifier, BaggingClassifier, StackingClassifier, VotingClassifier\n",
    "from sklearn.preprocessing import StandardScaler\n",
    "from sklearn.pipeline import make_pipeline\n",
    "from sklearn.naive_bayes import CategoricalNB, GaussianNB\n",
    "from sklearn.tree import DecisionTreeClassifier\n",
    "from sklearn.svm import LinearSVC, SVC\n",
    "from sklearn.dummy import DummyClassifier\n",
    "import matplotlib.pyplot as plt\n",
    "import seaborn as sns\n",
    "import warnings\n",
    "from tqdm.notebook import tqdm\n",
    "from nltk.corpus import stopwords\n",
    "import re\n",
    "import fasttext as ft\n",
    "import pandas as pd\n",
    "import numpy as np\n",
    "import sys"
   ]
  },
  {
   "cell_type": "code",
   "execution_count": 2,
   "metadata": {},
   "outputs": [],
   "source": [
    "def warn(*args, **kwargs):\n",
    "    pass\n",
    "\n",
    "warnings.warn = warn"
   ]
  },
  {
   "cell_type": "code",
   "execution_count": 3,
   "metadata": {},
   "outputs": [],
   "source": [
    "stopwords = stopwords.words('english')"
   ]
  },
  {
   "cell_type": "code",
   "execution_count": 4,
   "metadata": {},
   "outputs": [],
   "source": [
    "df = pd.read_csv('res/bbc.csv')"
   ]
  },
  {
   "cell_type": "code",
   "execution_count": 5,
   "metadata": {},
   "outputs": [
    {
     "name": "stderr",
     "output_type": "stream",
     "text": [
      "Warning : `load_model` does not return WordVectorModel or SupervisedModel any more, but a `FastText` object which is very similar.\n"
     ]
    }
   ],
   "source": [
    "ft_model = ft.load_model('C:/Users/Christian/Desktop/crawl-300d-2M-subword.bin')"
   ]
  },
  {
   "cell_type": "code",
   "execution_count": 6,
   "metadata": {},
   "outputs": [],
   "source": [
    "def preprocess(text: str) -> list:\n",
    "    tokens = []\n",
    "    text = re.sub('[—;/()•,.\\[\\]\\-\\'0123456789]', ' ', text)\n",
    "    for token in text.split():\n",
    "        token = token.lower()\n",
    "        if len(token) > 2 and token not in stopwords:\n",
    "            tokens.append(token)\n",
    "    \n",
    "    return tokens"
   ]
  },
  {
   "cell_type": "code",
   "execution_count": 7,
   "metadata": {},
   "outputs": [],
   "source": [
    "def grid_search(estimator, grid, X, y):\n",
    "    clf = GridSearchCV(estimator(), grid)\n",
    "    clf.fit(X, y)\n",
    "    \n",
    "    return estimator, clf.best_params_, clf.best_score_"
   ]
  },
  {
   "cell_type": "code",
   "execution_count": 8,
   "metadata": {},
   "outputs": [],
   "source": [
    "ensembles = [BaggingClassifier, StackingClassifier, VotingClassifier]\n",
    "func = lambda x: (x[0](**x[1]), x[2])\n",
    "def train(classifier, X, y, params):\n",
    "    if classifier in ensembles:\n",
    "        estimators = [\n",
    "            (f\"c{i}\",\n",
    "                func(\n",
    "                    grid_search(\n",
    "                        estimator, \n",
    "                        grid, \n",
    "                        X, \n",
    "                        y\n",
    "                    )\n",
    "                )\n",
    "            ) for i, (estimator, grid) in enumerate(params['estimators'])\n",
    "        ]\n",
    "        ensemble_params = {}\n",
    "        best_estimator = sorted(estimators, key=lambda x: x[1][1], reverse=True)[0][1][0]\n",
    "        if classifier.__name__ == 'BaggingClassifier':\n",
    "            estimators = best_estimator\n",
    "            \n",
    "        elif classifier.__name__ == 'StackingClassifier':\n",
    "            ensemble_params.update({'final_estimator': best_estimator})\n",
    "            estimators = [(estimator[0], estimator[1][0]) for estimator in estimators]\n",
    "            \n",
    "        else:\n",
    "            estimators = [(estimator[0], estimator[1][0]) for estimator in estimators]\n",
    "            \n",
    "        clf = classifier(estimators, **ensemble_params)\n",
    "        clf.fit(X, y)\n",
    "    \n",
    "    else:\n",
    "        clf, best_params, _ = grid_search(classifier, params, X, y)\n",
    "        clf = clf(**best_params)\n",
    "        clf.fit(X, y)\n",
    "        \n",
    "    return clf"
   ]
  },
  {
   "cell_type": "code",
   "execution_count": 13,
   "metadata": {},
   "outputs": [],
   "source": [
    "def train_and_predict(classifier, X_train, y_train, X_test, y_test, params):\n",
    "    clf = train(classifier, X_train, y_train, params)\n",
    "    pred = clf.predict(X_test)\n",
    "    \n",
    "    return (\n",
    "        accuracy_score(y_test, pred), \n",
    "        f1_score(y_test, pred, average='weighted'), \n",
    "        pred, \n",
    "        clf\n",
    "    )"
   ]
  },
  {
   "cell_type": "code",
   "execution_count": 14,
   "metadata": {},
   "outputs": [],
   "source": [
    "X, y = tuple(\n",
    "    map(\n",
    "        np.array, \n",
    "        list(\n",
    "            zip(\n",
    "                *[\n",
    "                    (\n",
    "                        np.mean(\n",
    "                            [ft_model[token] for token in preprocess(x.text)], \n",
    "                            axis=0\n",
    "                        ),\n",
    "                        x.label\n",
    "                    ) for x in df.itertuples()\n",
    "                ]\n",
    "            )\n",
    "        )\n",
    "    )\n",
    ")"
   ]
  },
  {
   "cell_type": "code",
   "execution_count": 77,
   "metadata": {},
   "outputs": [],
   "source": [
    "baselines = [\n",
    "    (\n",
    "        DummyClassifier, {'strategy': ['uniform']}\n",
    "    ),\n",
    "    (\n",
    "        NearestCentroid, {}\n",
    "    ),\n",
    "    (\n",
    "        KNeighborsClassifier, {'n_neighbors': list(range(5, 25))}\n",
    "    ),\n",
    "    (\n",
    "        DecisionTreeClassifier, {'criterion': ['gini', 'entropy']}\n",
    "    ),\n",
    "    (\n",
    "        LinearSVC, {'C': list(range(1, 10))}\n",
    "    ),\n",
    "    (\n",
    "        CategoricalNB, {'alpha': [0, 0.5, 1]}\n",
    "    ),\n",
    "    (\n",
    "        RadiusNeighborsClassifier, {'radius': [3]}\n",
    "    ),\n",
    "    (\n",
    "        LogisticRegression, {'multi_class': ['ovr']}\n",
    "    ),\n",
    "    (\n",
    "        RandomForestClassifier, {}\n",
    "    )\n",
    "]"
   ]
  },
  {
   "cell_type": "code",
   "execution_count": 78,
   "metadata": {},
   "outputs": [
    {
     "name": "stdout",
     "output_type": "stream",
     "text": [
      "BaggingClassifier: (0.9625187406296851, 0.9624685235756271)\n",
      "\n",
      "StackingClassifier: (0.967016491754123, 0.9669514515430262)\n",
      "\n",
      "VotingClassifier: (0.952023988005997, 0.9520736166966962)\n",
      "\n",
      "DummyClassifier: (0.2128935532233883, 0.21261130150315952)\n",
      "\n",
      "NearestCentroid: (0.896551724137931, 0.8986328115358653)\n",
      "\n",
      "KNeighborsClassifier: (0.9430284857571214, 0.9431313462737215)\n",
      "\n",
      "DecisionTreeClassifier: (0.863568215892054, 0.8626658725490501)\n",
      "\n",
      "LinearSVC: (0.9535232383808095, 0.9535631436724877)\n",
      "\n",
      "CategoricalNB: (0.1889055472263868, 0.06003051437711157)\n",
      "\n",
      "RadiusNeighborsClassifier: (0.1889055472263868, 0.06003051437711157)\n",
      "\n",
      "LogisticRegression: (0.8950524737631185, 0.8953352048945538)\n",
      "\n",
      "RandomForestClassifier: (0.9655172413793104, 0.9655186737800004)\n",
      "\n",
      "---\n",
      "\n",
      "BaggingClassifier: (0.9865067466266867, 0.9865025608796322)\n",
      "\n",
      "StackingClassifier: (0.9850074962518741, 0.9849711982632029)\n",
      "\n",
      "VotingClassifier: (0.9730134932533733, 0.9730904996443149)\n",
      "\n",
      "DummyClassifier: (0.21139430284857572, 0.2120290239786933)\n",
      "\n",
      "NearestCentroid: (0.9190404797601199, 0.9201779963711182)\n",
      "\n",
      "KNeighborsClassifier: (0.9415292353823088, 0.9417307058162859)\n",
      "\n",
      "DecisionTreeClassifier: (0.8725637181409296, 0.8731684497893123)\n",
      "\n",
      "LinearSVC: (0.9760119940029985, 0.9759712667851392)\n",
      "\n",
      "CategoricalNB: (0.191904047976012, 0.0617955173356718)\n",
      "\n",
      "RadiusNeighborsClassifier: (0.191904047976012, 0.0617955173356718)\n",
      "\n",
      "LogisticRegression: (0.9295352323838081, 0.9296603718069577)\n",
      "\n",
      "RandomForestClassifier: (0.9790104947526237, 0.9789575132238373)\n",
      "\n",
      "---\n",
      "\n",
      "BaggingClassifier: (0.963963963963964, 0.9639397060222409)\n",
      "\n",
      "StackingClassifier: (0.9744744744744744, 0.9744671598501433)\n",
      "\n",
      "VotingClassifier: (0.9219219219219219, 0.9239845108685397)\n",
      "\n",
      "DummyClassifier: (0.2072072072072072, 0.2072987338794461)\n",
      "\n",
      "NearestCentroid: (0.9084084084084084, 0.9099384420538037)\n",
      "\n",
      "KNeighborsClassifier: (0.9384384384384384, 0.9388235082649348)\n",
      "\n",
      "DecisionTreeClassifier: (0.8438438438438438, 0.8437421885124035)\n",
      "\n",
      "LinearSVC: (0.9624624624624625, 0.9624313496260799)\n",
      "\n",
      "CategoricalNB: (0.18618618618618618, 0.05844832173946098)\n",
      "\n",
      "RadiusNeighborsClassifier: (0.18618618618618618, 0.05844832173946098)\n",
      "\n",
      "LogisticRegression: (0.8993993993993994, 0.9007500574282715)\n",
      "\n",
      "RandomForestClassifier: (0.9654654654654654, 0.9654747836649499)\n",
      "\n",
      "---\n",
      "\n"
     ]
    }
   ],
   "source": [
    "kf = KFold(n_splits=3, shuffle=True)\n",
    "models = [\n",
    "    (ensemble, {'estimators': baselines}) for ensemble in ensembles\n",
    "] + baselines\n",
    "results = {model[0].__name__: [] for model in models}\n",
    "for train_index, test_index in kf.split(X):\n",
    "    X_train, X_test = X[train_index], X[test_index]\n",
    "    y_train, y_test = y[train_index], y[test_index]\n",
    "    for model, params in models:\n",
    "        ret = train_and_predict(model, X_train, y_train, X_test, y_test, params)\n",
    "        results[model.__name__].append(ret)\n",
    "        print(f\"{model.__name__}: {ret[:2]}\\n\")\n",
    "        \n",
    "    print('---\\n')"
   ]
  },
  {
   "cell_type": "code",
   "execution_count": 79,
   "metadata": {},
   "outputs": [],
   "source": [
    "_, _, _, clf = sorted(sorted(results.items(), key=lambda x: sum([y[0] for y in x[1]]) / len(x[1]), reverse=True)[0][1], key=lambda x: x[0], reverse=True)[0]"
   ]
  },
  {
   "cell_type": "code",
   "execution_count": 80,
   "metadata": {},
   "outputs": [
    {
     "data": {
      "text/plain": [
       "StackingClassifier(estimators=[('c0', DummyClassifier(strategy='uniform')),\n",
       "                               ('c1', NearestCentroid()),\n",
       "                               ('c2', KNeighborsClassifier(n_neighbors=6)),\n",
       "                               ('c3',\n",
       "                                DecisionTreeClassifier(criterion='entropy')),\n",
       "                               ('c4', LinearSVC(C=9)),\n",
       "                               ('c5', CategoricalNB(alpha=0)),\n",
       "                               ('c6', RadiusNeighborsClassifier(radius=3)),\n",
       "                               ('c7', LogisticRegression(multi_class='ovr')),\n",
       "                               ('c8', RandomForestClassifier())],\n",
       "                   final_estimator=RandomForestClassifier())"
      ]
     },
     "execution_count": 80,
     "metadata": {},
     "output_type": "execute_result"
    }
   ],
   "source": [
    "clf"
   ]
  },
  {
   "cell_type": "code",
   "execution_count": 81,
   "metadata": {},
   "outputs": [],
   "source": [
    "pred = clf.predict(X)"
   ]
  },
  {
   "cell_type": "code",
   "execution_count": 82,
   "metadata": {},
   "outputs": [
    {
     "data": {
      "text/plain": [
       "0.993"
      ]
     },
     "execution_count": 82,
     "metadata": {},
     "output_type": "execute_result"
    }
   ],
   "source": [
    "accuracy_score(y, pred)"
   ]
  },
  {
   "cell_type": "code",
   "execution_count": 83,
   "metadata": {},
   "outputs": [
    {
     "data": {
      "text/plain": [
       "0.9929958702328904"
      ]
     },
     "execution_count": 83,
     "metadata": {},
     "output_type": "execute_result"
    }
   ],
   "source": [
    "f1_score(y, pred, average='weighted')"
   ]
  },
  {
   "cell_type": "code",
   "execution_count": 84,
   "metadata": {},
   "outputs": [
    {
     "data": {
      "text/plain": [
       "<matplotlib.axes._subplots.AxesSubplot at 0x1bebd31ca48>"
      ]
     },
     "execution_count": 84,
     "metadata": {},
     "output_type": "execute_result"
    },
    {
     "data": {
      "image/png": "[encoded data removed]",
      "text/plain": [
       "<Figure size 1440x1080 with 2 Axes>"
      ]
     },
     "metadata": {
      "needs_background": "light"
     },
     "output_type": "display_data"
    }
   ],
   "source": [
    "plt.rcParams[\"figure.figsize\"] = (20,15)\n",
    "sns.heatmap(confusion_matrix(y, pred), annot=True, cmap=plt.cm.Blues, fmt='d')"
   ]
  },
  {
   "cell_type": "code",
   "execution_count": null,
   "metadata": {},
   "outputs": [],
   "source": []
  }
 ],
 "metadata": {
  "kernelspec": {
   "display_name": "Python 3",
   "language": "python",
   "name": "python3"
  },
  "language_info": {
   "codemirror_mode": {
    "name": "ipython",
    "version": 3
   },
   "file_extension": ".py",
   "mimetype": "text/x-python",
   "name": "python",
   "nbconvert_exporter": "python",
   "pygments_lexer": "ipython3",
   "version": "3.7.4"
  }
 },
 "nbformat": 4,
 "nbformat_minor": 2
}
