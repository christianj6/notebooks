{
 "cells": [
  {
   "cell_type": "markdown",
   "metadata": {},
   "source": [
    "### Active Learning CEAL\n",
    "This notebook demonstrates how an active learning approach leads to more effective training, by sampling uncertain samples for future training batches. The method used in this notebook is the [CEAL algorithm](https://arxiv.org/pdf/1711.09168.pdf), which involves the addition of highly-certain predicted samples to further accelerate training."
   ]
  },
  {
   "cell_type": "code",
   "execution_count": 1,
   "metadata": {
    "scrolled": true
   },
   "outputs": [
    {
     "name": "stderr",
     "output_type": "stream",
     "text": [
      "C:\\Users\\Christian\\Anaconda3\\envs\\deepsight\\lib\\site-packages\\tensorflow\\python\\framework\\dtypes.py:516: FutureWarning: Passing (type, 1) or '1type' as a synonym of type is deprecated; in a future version of numpy, it will be understood as (type, (1,)) / '(1,)type'.\n",
      "  _np_qint8 = np.dtype([(\"qint8\", np.int8, 1)])\n",
      "C:\\Users\\Christian\\Anaconda3\\envs\\deepsight\\lib\\site-packages\\tensorflow\\python\\framework\\dtypes.py:517: FutureWarning: Passing (type, 1) or '1type' as a synonym of type is deprecated; in a future version of numpy, it will be understood as (type, (1,)) / '(1,)type'.\n",
      "  _np_quint8 = np.dtype([(\"quint8\", np.uint8, 1)])\n",
      "C:\\Users\\Christian\\Anaconda3\\envs\\deepsight\\lib\\site-packages\\tensorflow\\python\\framework\\dtypes.py:518: FutureWarning: Passing (type, 1) or '1type' as a synonym of type is deprecated; in a future version of numpy, it will be understood as (type, (1,)) / '(1,)type'.\n",
      "  _np_qint16 = np.dtype([(\"qint16\", np.int16, 1)])\n",
      "C:\\Users\\Christian\\Anaconda3\\envs\\deepsight\\lib\\site-packages\\tensorflow\\python\\framework\\dtypes.py:519: FutureWarning: Passing (type, 1) or '1type' as a synonym of type is deprecated; in a future version of numpy, it will be understood as (type, (1,)) / '(1,)type'.\n",
      "  _np_quint16 = np.dtype([(\"quint16\", np.uint16, 1)])\n",
      "C:\\Users\\Christian\\Anaconda3\\envs\\deepsight\\lib\\site-packages\\tensorflow\\python\\framework\\dtypes.py:520: FutureWarning: Passing (type, 1) or '1type' as a synonym of type is deprecated; in a future version of numpy, it will be understood as (type, (1,)) / '(1,)type'.\n",
      "  _np_qint32 = np.dtype([(\"qint32\", np.int32, 1)])\n",
      "C:\\Users\\Christian\\Anaconda3\\envs\\deepsight\\lib\\site-packages\\tensorflow\\python\\framework\\dtypes.py:525: FutureWarning: Passing (type, 1) or '1type' as a synonym of type is deprecated; in a future version of numpy, it will be understood as (type, (1,)) / '(1,)type'.\n",
      "  np_resource = np.dtype([(\"resource\", np.ubyte, 1)])\n",
      "C:\\Users\\Christian\\Anaconda3\\envs\\deepsight\\lib\\site-packages\\tensorboard\\compat\\tensorflow_stub\\dtypes.py:541: FutureWarning: Passing (type, 1) or '1type' as a synonym of type is deprecated; in a future version of numpy, it will be understood as (type, (1,)) / '(1,)type'.\n",
      "  _np_qint8 = np.dtype([(\"qint8\", np.int8, 1)])\n",
      "C:\\Users\\Christian\\Anaconda3\\envs\\deepsight\\lib\\site-packages\\tensorboard\\compat\\tensorflow_stub\\dtypes.py:542: FutureWarning: Passing (type, 1) or '1type' as a synonym of type is deprecated; in a future version of numpy, it will be understood as (type, (1,)) / '(1,)type'.\n",
      "  _np_quint8 = np.dtype([(\"quint8\", np.uint8, 1)])\n",
      "C:\\Users\\Christian\\Anaconda3\\envs\\deepsight\\lib\\site-packages\\tensorboard\\compat\\tensorflow_stub\\dtypes.py:543: FutureWarning: Passing (type, 1) or '1type' as a synonym of type is deprecated; in a future version of numpy, it will be understood as (type, (1,)) / '(1,)type'.\n",
      "  _np_qint16 = np.dtype([(\"qint16\", np.int16, 1)])\n",
      "C:\\Users\\Christian\\Anaconda3\\envs\\deepsight\\lib\\site-packages\\tensorboard\\compat\\tensorflow_stub\\dtypes.py:544: FutureWarning: Passing (type, 1) or '1type' as a synonym of type is deprecated; in a future version of numpy, it will be understood as (type, (1,)) / '(1,)type'.\n",
      "  _np_quint16 = np.dtype([(\"quint16\", np.uint16, 1)])\n",
      "C:\\Users\\Christian\\Anaconda3\\envs\\deepsight\\lib\\site-packages\\tensorboard\\compat\\tensorflow_stub\\dtypes.py:545: FutureWarning: Passing (type, 1) or '1type' as a synonym of type is deprecated; in a future version of numpy, it will be understood as (type, (1,)) / '(1,)type'.\n",
      "  _np_qint32 = np.dtype([(\"qint32\", np.int32, 1)])\n",
      "C:\\Users\\Christian\\Anaconda3\\envs\\deepsight\\lib\\site-packages\\tensorboard\\compat\\tensorflow_stub\\dtypes.py:550: FutureWarning: Passing (type, 1) or '1type' as a synonym of type is deprecated; in a future version of numpy, it will be understood as (type, (1,)) / '(1,)type'.\n",
      "  np_resource = np.dtype([(\"resource\", np.ubyte, 1)])\n"
     ]
    }
   ],
   "source": [
    "from abc import ABC, abstractmethod\n",
    "import random\n",
    "import matplotlib.pyplot as plt\n",
    "import tensorflow as tf\n",
    "import numpy as np"
   ]
  },
  {
   "cell_type": "code",
   "execution_count": 2,
   "metadata": {},
   "outputs": [],
   "source": [
    "class MultiClassClassifier(ABC):\n",
    "    \n",
    "    def __init__(self):\n",
    "        self.model = self.get_compiled_model()\n",
    "    \n",
    "    @staticmethod\n",
    "    @abstractmethod\n",
    "    def get_compiled_model():\n",
    "        pass\n",
    "    \n",
    "    @abstractmethod\n",
    "    def get_training_sample(\n",
    "        self,\n",
    "        x: np.array,\n",
    "        y: np.array,\n",
    "        k: int,\n",
    "    ) -> np.array:\n",
    "        pass\n",
    "    \n",
    "    @abstractmethod\n",
    "    def forward(\n",
    "        self,\n",
    "        x: np.array,\n",
    "        y: np.array,\n",
    "    ) -> None:\n",
    "        pass\n",
    "    \n",
    "    @abstractmethod\n",
    "    def predict(\n",
    "        self,\n",
    "        x: np.array,\n",
    "    ) -> np.array:\n",
    "        pass\n",
    "    \n",
    "    def evaluate(\n",
    "        self, \n",
    "        x, \n",
    "        y,\n",
    "    ):\n",
    "        y_pred = np.apply_along_axis(\n",
    "            lambda x: np.argmax(x),\n",
    "            axis=1,\n",
    "            arr=self.predict(x)\n",
    "        )\n",
    "        return (y_pred == y).mean()"
   ]
  },
  {
   "cell_type": "code",
   "execution_count": 3,
   "metadata": {},
   "outputs": [],
   "source": [
    "class MultiClassClassifierSupervised(MultiClassClassifier):\n",
    "    \n",
    "    def get_training_sample(self, x, y, k):\n",
    "        query = np.array(random.sample(\n",
    "            range(x.shape[0]),\n",
    "            k=k\n",
    "        ))\n",
    "        return x[query], y[query], query"
   ]
  },
  {
   "cell_type": "code",
   "execution_count": 4,
   "metadata": {},
   "outputs": [],
   "source": [
    "class MultiClassClassifierActive(MultiClassClassifier):\n",
    "    \n",
    "    def get_training_sample(self, x, y, k):  \n",
    "        preds = self.predict(x)\n",
    "        query = np.apply_along_axis(\n",
    "            lambda x: np.min(\n",
    "                x[x[np.nonzero(x)].argsort()][-1] -\n",
    "                    x[x[np.nonzero(x)].argsort()][-2]\n",
    "            ), \n",
    "            axis=1, \n",
    "            arr=preds\n",
    "        ).argsort()       \n",
    "        y_pred = np.apply_along_axis(\n",
    "            lambda x: np.argmax(x),\n",
    "            axis=1,\n",
    "            arr=preds\n",
    "        )\n",
    "        least = query[:k]\n",
    "        most = query[np.max(preds, axis=1) > 0.95][-1:-k-1:-1]\n",
    "        return (\n",
    "            np.concatenate(\n",
    "                (\n",
    "                    x[least],\n",
    "                    x[most],\n",
    "                ),\n",
    "                axis=0\n",
    "            ), \n",
    "            np.concatenate(\n",
    "                (\n",
    "                    y[least],\n",
    "                    y_pred[most],\n",
    "                ),\n",
    "                axis=0\n",
    "            ), \n",
    "            least\n",
    "       )\n",
    "        "
   ]
  },
  {
   "cell_type": "code",
   "execution_count": 5,
   "metadata": {},
   "outputs": [],
   "source": [
    "class Learner:\n",
    "    \n",
    "    def __init__(\n",
    "        self,\n",
    "        classifier,\n",
    "        k=100,\n",
    "        stop_acc=0.9,\n",
    "    ):\n",
    "        self.classifier = classifier\n",
    "        self.k = k\n",
    "        self.stop_acc = stop_acc\n",
    "        self.steps = [0]\n",
    "        self.accs = []\n",
    "            \n",
    "    def learn(\n",
    "        self,\n",
    "        x_train,\n",
    "        y_train,\n",
    "        x_test,\n",
    "        y_test,\n",
    "    ):\n",
    "        while True:\n",
    "            x, y, delete = self.classifier.get_training_sample(x_train, y_train, self.k)            \n",
    "            self.classifier.forward(x, y)\n",
    "            x_train, y_train = (\n",
    "                np.delete(x_train, delete, axis=0),\n",
    "                np.delete(y_train, delete, axis=0)\n",
    "            )\n",
    "            # In the case of active learning, the step\n",
    "            # count is not representative of the total training\n",
    "            # samples, but is indicative of the annotated samples,\n",
    "            # as half of the labels are imputed by the model.\n",
    "            self.steps.append(self.steps[-1] + self.k)\n",
    "            self.accs.append(self.classifier.evaluate(x_test, y_test))\n",
    "            if self.accs[-1] >= self.stop_acc:\n",
    "                # Remove the first step bc we were\n",
    "                # only using it for a counter.\n",
    "                self.steps.pop(0)\n",
    "                break"
   ]
  },
  {
   "cell_type": "code",
   "execution_count": 6,
   "metadata": {},
   "outputs": [],
   "source": [
    "class KerasMNISTMultiClassClassifier:\n",
    "    \n",
    "    @staticmethod\n",
    "    def get_compiled_model():\n",
    "        model = tf.keras.Sequential(\n",
    "            [\n",
    "                tf.keras.layers.Flatten(input_shape=(28, 28)),\n",
    "                tf.keras.layers.Dense(128, activation='relu'),\n",
    "                tf.keras.layers.Dense(10, activation='softmax'),\n",
    "            ]\n",
    "        )\n",
    "        model.compile(\n",
    "            optimizer='adam',\n",
    "            loss=tf.keras.losses.SparseCategoricalCrossentropy(from_logits=True),\n",
    "            metrics=['accuracy']\n",
    "        )\n",
    "        return model\n",
    "    \n",
    "    def forward(\n",
    "        self,\n",
    "        x: np.array,\n",
    "        y: np.array,\n",
    "    ) -> None:\n",
    "        self.model.fit(\n",
    "            x,\n",
    "            y,\n",
    "            epochs=1,\n",
    "            verbose=0,\n",
    "        )\n",
    "    \n",
    "    def predict(\n",
    "        self,\n",
    "        x: np.array,\n",
    "    ) -> np.array:\n",
    "        return self.model.predict(x)"
   ]
  },
  {
   "cell_type": "code",
   "execution_count": 7,
   "metadata": {},
   "outputs": [],
   "source": [
    "class KerasMNISTMultiClassClassifierSupervised(\n",
    "    KerasMNISTMultiClassClassifier, \n",
    "    MultiClassClassifierSupervised\n",
    "):\n",
    "    pass"
   ]
  },
  {
   "cell_type": "code",
   "execution_count": 8,
   "metadata": {},
   "outputs": [],
   "source": [
    "class KerasMNISTMultiClassClassifierActive(\n",
    "    KerasMNISTMultiClassClassifier,\n",
    "    MultiClassClassifierActive\n",
    "):\n",
    "    pass"
   ]
  },
  {
   "cell_type": "code",
   "execution_count": 9,
   "metadata": {},
   "outputs": [],
   "source": [
    "# Load and reformat MNIST dataset.\n",
    "(x_train, y_train), (x_test, y_test) = tf.keras.datasets.mnist.load_data()\n",
    "x_train = x_train / 255.0\n",
    "x_test = x_test / 255.0"
   ]
  },
  {
   "cell_type": "code",
   "execution_count": 10,
   "metadata": {
    "scrolled": true
   },
   "outputs": [
    {
     "name": "stdout",
     "output_type": "stream",
     "text": [
      "WARNING:tensorflow:From C:\\Users\\Christian\\Anaconda3\\envs\\deepsight\\lib\\site-packages\\tensorflow\\python\\ops\\init_ops.py:1251: calling VarianceScaling.__init__ (from tensorflow.python.ops.init_ops) with dtype is deprecated and will be removed in a future version.\n",
      "Instructions for updating:\n",
      "Call initializer instance with the dtype argument instead of passing it to the constructor\n"
     ]
    }
   ],
   "source": [
    "# Supervised learning scenario.\n",
    "supervised_classifier = KerasMNISTMultiClassClassifierSupervised()\n",
    "supervised_learner = Learner(supervised_classifier)\n",
    "supervised_learner.learn(x_train, y_train, x_test, y_test)"
   ]
  },
  {
   "cell_type": "code",
   "execution_count": 11,
   "metadata": {
    "scrolled": true
   },
   "outputs": [],
   "source": [
    "# Active learning scenario.\n",
    "active_classifier = KerasMNISTMultiClassClassifierActive()\n",
    "active_learner = Learner(active_classifier)\n",
    "active_learner.learn(x_train, y_train, x_test, y_test)"
   ]
  },
  {
   "cell_type": "code",
   "execution_count": 12,
   "metadata": {},
   "outputs": [
    {
     "data": {
      "image/png": "[encoded data removed]",
      "text/plain": [
       "<Figure size 432x288 with 1 Axes>"
      ]
     },
     "metadata": {
      "needs_background": "light"
     },
     "output_type": "display_data"
    }
   ],
   "source": [
    "# Plot results.\n",
    "plt.plot(supervised_learner.steps, supervised_learner.accs, label=\"supervised\")\n",
    "plt.plot(active_learner.steps, active_learner.accs, label=\"active\")\n",
    "plt.xlabel(\"Labeled Samples\")\n",
    "plt.ylabel(\"Test Accuracy\")\n",
    "plt.legend(loc=\"lower right\")\n",
    "plt.show()"
   ]
  },
  {
   "cell_type": "markdown",
   "metadata": {},
   "source": [
    "It is demonstrable that with the active learning approach the model reaches .9 accuracy with approx 50% fewer labeled samples than under a supervised learning regime."
   ]
  },
  {
   "cell_type": "code",
   "execution_count": null,
   "metadata": {},
   "outputs": [],
   "source": []
  }
 ],
 "metadata": {
  "kernelspec": {
   "display_name": "Python 3",
   "language": "python",
   "name": "python3"
  },
  "language_info": {
   "codemirror_mode": {
    "name": "ipython",
    "version": 3
   },
   "file_extension": ".py",
   "mimetype": "text/x-python",
   "name": "python",
   "nbconvert_exporter": "python",
   "pygments_lexer": "ipython3",
   "version": "3.7.4"
  }
 },
 "nbformat": 4,
 "nbformat_minor": 2
}
